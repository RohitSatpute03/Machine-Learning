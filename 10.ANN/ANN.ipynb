{
  "nbformat": 4,
  "nbformat_minor": 0,
  "metadata": {
    "colab": {
      "provenance": []
    },
    "kernelspec": {
      "name": "python3",
      "display_name": "Python 3"
    },
    "language_info": {
      "name": "python"
    }
  },
  "cells": [
    {
      "cell_type": "markdown",
      "source": [
        "Deep learning via ANN"
      ],
      "metadata": {
        "id": "IHAgfhqN_8LN"
      }
    },
    {
      "cell_type": "markdown",
      "source": [
        "Importing librarires"
      ],
      "metadata": {
        "id": "U3PryZLT_8H4"
      }
    },
    {
      "cell_type": "code",
      "source": [
        "import pandas as pd\n",
        "import numpy as np\n",
        "import tensorflow as tf"
      ],
      "metadata": {
        "id": "n2EOHuWqBG6E"
      },
      "execution_count": 1,
      "outputs": []
    },
    {
      "cell_type": "code",
      "source": [
        "tf.__version__"
      ],
      "metadata": {
        "colab": {
          "base_uri": "https://localhost:8080/",
          "height": 35
        },
        "id": "FQlTaiABBR0z",
        "outputId": "4e080cc3-d673-4ed1-cf81-888fe3ae0bbc"
      },
      "execution_count": 2,
      "outputs": [
        {
          "output_type": "execute_result",
          "data": {
            "text/plain": [
              "'2.15.0'"
            ],
            "application/vnd.google.colaboratory.intrinsic+json": {
              "type": "string"
            }
          },
          "metadata": {},
          "execution_count": 2
        }
      ]
    },
    {
      "cell_type": "markdown",
      "source": [
        "Import dataset"
      ],
      "metadata": {
        "id": "l2uX3Tke_8Eu"
      }
    },
    {
      "cell_type": "code",
      "source": [
        "dataset = pd.read_csv(\"/content/Dataset_master.xlsx - American Express User Exit Pred.csv\")\n",
        "x = dataset.iloc[:, 0:-1].values\n",
        "y = dataset.iloc[:, -1].values"
      ],
      "metadata": {
        "id": "xvgl46_eBVyK"
      },
      "execution_count": 3,
      "outputs": []
    },
    {
      "cell_type": "code",
      "source": [
        "print(x)"
      ],
      "metadata": {
        "colab": {
          "base_uri": "https://localhost:8080/"
        },
        "id": "zLO5COZbBsQM",
        "outputId": "865b31bf-b1ee-4678-b380-05e3315b6c4e"
      },
      "execution_count": 4,
      "outputs": [
        {
          "output_type": "stream",
          "name": "stdout",
          "text": [
            "[[553 'Delhi' 'Female' ... 4 1 274150]\n",
            " [447 'Bengaluru' 'Male' ... 4 1 519360]\n",
            " [501 'Delhi' 'Female' ... 4 1 545501]\n",
            " ...\n",
            " [627 'Mumbai' 'Female' ... 4 0 494067]\n",
            " [600 'Bengaluru' 'Female' ... 2 1 109375]\n",
            " [553 'Delhi' 'Male' ... 4 1 180031]]\n"
          ]
        }
      ]
    },
    {
      "cell_type": "code",
      "source": [
        "print(y)"
      ],
      "metadata": {
        "colab": {
          "base_uri": "https://localhost:8080/"
        },
        "id": "wkpGLT0dBsE_",
        "outputId": "84da7ad6-3e14-4874-a40c-cb16994dc22a"
      },
      "execution_count": 5,
      "outputs": [
        {
          "output_type": "stream",
          "name": "stdout",
          "text": [
            "[0 0 0 ... 0 1 0]\n"
          ]
        }
      ]
    },
    {
      "cell_type": "markdown",
      "source": [
        "Encoding categorial data"
      ],
      "metadata": {
        "id": "qU0Zl6ti_8BY"
      }
    },
    {
      "cell_type": "markdown",
      "source": [
        "gender column: label encoding"
      ],
      "metadata": {
        "id": "RUmT-JSR_79-"
      }
    },
    {
      "cell_type": "code",
      "source": [
        "from sklearn.preprocessing import LabelEncoder\n",
        "label_encoder = LabelEncoder()\n",
        "x[:, 2] = label_encoder.fit_transform(x[:, 2])"
      ],
      "metadata": {
        "id": "nX6HC4dyBqqH"
      },
      "execution_count": 6,
      "outputs": []
    },
    {
      "cell_type": "markdown",
      "source": [
        "geography column: onehot encoding"
      ],
      "metadata": {
        "id": "G6tdGroh_761"
      }
    },
    {
      "cell_type": "code",
      "source": [
        "from sklearn.preprocessing import OneHotEncoder\n",
        "from sklearn.compose import ColumnTransformer\n",
        "ct = ColumnTransformer(transformers = [('encoder', OneHotEncoder(), [1])], remainder = 'passthrough' )\n",
        "x = np.array(ct.fit_transform(x))"
      ],
      "metadata": {
        "id": "w97mEf9_CJ_1"
      },
      "execution_count": 8,
      "outputs": []
    },
    {
      "cell_type": "markdown",
      "source": [
        "splitting data into training and testing sets"
      ],
      "metadata": {
        "id": "dMy1AgiB_73w"
      }
    },
    {
      "cell_type": "code",
      "source": [
        "from sklearn.model_selection import train_test_split\n",
        "x_train, x_test, y_train, y_test = train_test_split(x, y, test_size = 0.2, random_state = 21)"
      ],
      "metadata": {
        "id": "ytQ1ik20C71K"
      },
      "execution_count": 9,
      "outputs": []
    },
    {
      "cell_type": "markdown",
      "source": [
        "Feature scaling"
      ],
      "metadata": {
        "id": "XlTEg0r9_70G"
      }
    },
    {
      "cell_type": "code",
      "source": [
        "from sklearn.preprocessing import StandardScaler\n",
        "sc = StandardScaler()\n",
        "x_train = sc.fit_transform(x_train)\n",
        "x_test = sc.transform(x_test)"
      ],
      "metadata": {
        "id": "R3tfUS4PDQDB"
      },
      "execution_count": 10,
      "outputs": []
    },
    {
      "cell_type": "markdown",
      "source": [
        "ANN"
      ],
      "metadata": {
        "id": "Tuq4BCiM_7w7"
      }
    },
    {
      "cell_type": "markdown",
      "source": [
        "Initializing"
      ],
      "metadata": {
        "id": "xIrY_h6l_7th"
      }
    },
    {
      "cell_type": "code",
      "source": [
        "ann = tf.keras.models.Sequential()"
      ],
      "metadata": {
        "id": "3mb9S_c3DmwI"
      },
      "execution_count": 11,
      "outputs": []
    },
    {
      "cell_type": "markdown",
      "source": [
        "adding input layers and hidden layer"
      ],
      "metadata": {
        "id": "b0g46dY6_7pr"
      }
    },
    {
      "cell_type": "code",
      "source": [
        "ann.add(tf.keras.layers.Dense(units = 5, activation = 'relu'))"
      ],
      "metadata": {
        "id": "wLct-36UDwf1"
      },
      "execution_count": 12,
      "outputs": []
    },
    {
      "cell_type": "markdown",
      "source": [
        "second hidden layer"
      ],
      "metadata": {
        "id": "7IkBD83Q_7ke"
      }
    },
    {
      "cell_type": "code",
      "source": [
        "ann.add(tf.keras.layers.Dense(units = 5, activation = 'relu'))"
      ],
      "metadata": {
        "id": "WbOG0CVkD-ae"
      },
      "execution_count": 13,
      "outputs": []
    },
    {
      "cell_type": "markdown",
      "source": [
        "Adding output layer"
      ],
      "metadata": {
        "id": "aSdqRqrcArcR"
      }
    },
    {
      "cell_type": "code",
      "source": [
        "ann.add(tf.keras.layers.Dense(units = 1, activation = 'sigmoid'))"
      ],
      "metadata": {
        "id": "MdeEnsvCEFl2"
      },
      "execution_count": 14,
      "outputs": []
    },
    {
      "cell_type": "markdown",
      "source": [
        "ANN training"
      ],
      "metadata": {
        "id": "Fn-pGlDbAsd4"
      }
    },
    {
      "cell_type": "markdown",
      "source": [
        "Compiling ANN"
      ],
      "metadata": {
        "id": "qdZSnTvWAsEH"
      }
    },
    {
      "cell_type": "code",
      "source": [
        "ann.compile(optimizer='adam', loss='binary_crossentropy', metrics=['accuracy'])"
      ],
      "metadata": {
        "id": "yXXA7UoxEONI"
      },
      "execution_count": 15,
      "outputs": []
    },
    {
      "cell_type": "markdown",
      "source": [
        "Training in training dataset"
      ],
      "metadata": {
        "id": "SZkTdhLwA2AT"
      }
    },
    {
      "cell_type": "code",
      "source": [
        "ann.fit(x_train, y_train, batch_size = 32, epochs=120)"
      ],
      "metadata": {
        "colab": {
          "base_uri": "https://localhost:8080/"
        },
        "id": "AbUzwa32EfVy",
        "outputId": "26208632-b1a0-4475-c58a-48a652adfc72"
      },
      "execution_count": 16,
      "outputs": [
        {
          "output_type": "stream",
          "name": "stdout",
          "text": [
            "Epoch 1/120\n",
            "249/249 [==============================] - 1s 2ms/step - loss: 0.5728 - accuracy: 0.7683\n",
            "Epoch 2/120\n",
            "249/249 [==============================] - 0s 2ms/step - loss: 0.4842 - accuracy: 0.7926\n",
            "Epoch 3/120\n",
            "249/249 [==============================] - 0s 2ms/step - loss: 0.4635 - accuracy: 0.7926\n",
            "Epoch 4/120\n",
            "249/249 [==============================] - 0s 2ms/step - loss: 0.4547 - accuracy: 0.7954\n",
            "Epoch 5/120\n",
            "249/249 [==============================] - 0s 2ms/step - loss: 0.4487 - accuracy: 0.7966\n",
            "Epoch 6/120\n",
            "249/249 [==============================] - 0s 2ms/step - loss: 0.4446 - accuracy: 0.7969\n",
            "Epoch 7/120\n",
            "249/249 [==============================] - 0s 2ms/step - loss: 0.4412 - accuracy: 0.7990\n",
            "Epoch 8/120\n",
            "249/249 [==============================] - 0s 2ms/step - loss: 0.4392 - accuracy: 0.8015\n",
            "Epoch 9/120\n",
            "249/249 [==============================] - 0s 2ms/step - loss: 0.4372 - accuracy: 0.8029\n",
            "Epoch 10/120\n",
            "249/249 [==============================] - 0s 2ms/step - loss: 0.4355 - accuracy: 0.8044\n",
            "Epoch 11/120\n",
            "249/249 [==============================] - 0s 2ms/step - loss: 0.4340 - accuracy: 0.8052\n",
            "Epoch 12/120\n",
            "249/249 [==============================] - 1s 3ms/step - loss: 0.4325 - accuracy: 0.8058\n",
            "Epoch 13/120\n",
            "249/249 [==============================] - 1s 3ms/step - loss: 0.4308 - accuracy: 0.8075\n",
            "Epoch 14/120\n",
            "249/249 [==============================] - 1s 3ms/step - loss: 0.4293 - accuracy: 0.8072\n",
            "Epoch 15/120\n",
            "249/249 [==============================] - 1s 3ms/step - loss: 0.4282 - accuracy: 0.8070\n",
            "Epoch 16/120\n",
            "249/249 [==============================] - 1s 3ms/step - loss: 0.4268 - accuracy: 0.8053\n",
            "Epoch 17/120\n",
            "249/249 [==============================] - 1s 3ms/step - loss: 0.4254 - accuracy: 0.8049\n",
            "Epoch 18/120\n",
            "249/249 [==============================] - 0s 2ms/step - loss: 0.4238 - accuracy: 0.8054\n",
            "Epoch 19/120\n",
            "249/249 [==============================] - 0s 2ms/step - loss: 0.4215 - accuracy: 0.8064\n",
            "Epoch 20/120\n",
            "249/249 [==============================] - 0s 2ms/step - loss: 0.4170 - accuracy: 0.8159\n",
            "Epoch 21/120\n",
            "249/249 [==============================] - 0s 2ms/step - loss: 0.4124 - accuracy: 0.8197\n",
            "Epoch 22/120\n",
            "249/249 [==============================] - 0s 2ms/step - loss: 0.4085 - accuracy: 0.8232\n",
            "Epoch 23/120\n",
            "249/249 [==============================] - 0s 2ms/step - loss: 0.4055 - accuracy: 0.8251\n",
            "Epoch 24/120\n",
            "249/249 [==============================] - 0s 2ms/step - loss: 0.4021 - accuracy: 0.8263\n",
            "Epoch 25/120\n",
            "249/249 [==============================] - 0s 2ms/step - loss: 0.3988 - accuracy: 0.8268\n",
            "Epoch 26/120\n",
            "249/249 [==============================] - 0s 2ms/step - loss: 0.3956 - accuracy: 0.8294\n",
            "Epoch 27/120\n",
            "249/249 [==============================] - 0s 2ms/step - loss: 0.3923 - accuracy: 0.8285\n",
            "Epoch 28/120\n",
            "249/249 [==============================] - 0s 2ms/step - loss: 0.3892 - accuracy: 0.8300\n",
            "Epoch 29/120\n",
            "249/249 [==============================] - 0s 2ms/step - loss: 0.3857 - accuracy: 0.8325\n",
            "Epoch 30/120\n",
            "249/249 [==============================] - 0s 2ms/step - loss: 0.3827 - accuracy: 0.8387\n",
            "Epoch 31/120\n",
            "249/249 [==============================] - 0s 2ms/step - loss: 0.3804 - accuracy: 0.8397\n",
            "Epoch 32/120\n",
            "249/249 [==============================] - 0s 2ms/step - loss: 0.3774 - accuracy: 0.8406\n",
            "Epoch 33/120\n",
            "249/249 [==============================] - 0s 2ms/step - loss: 0.3753 - accuracy: 0.8406\n",
            "Epoch 34/120\n",
            "249/249 [==============================] - 1s 2ms/step - loss: 0.3737 - accuracy: 0.8418\n",
            "Epoch 35/120\n",
            "249/249 [==============================] - 1s 3ms/step - loss: 0.3717 - accuracy: 0.8431\n",
            "Epoch 36/120\n",
            "249/249 [==============================] - 1s 3ms/step - loss: 0.3699 - accuracy: 0.8438\n",
            "Epoch 37/120\n",
            "249/249 [==============================] - 1s 3ms/step - loss: 0.3684 - accuracy: 0.8476\n",
            "Epoch 38/120\n",
            "249/249 [==============================] - 1s 4ms/step - loss: 0.3679 - accuracy: 0.8450\n",
            "Epoch 39/120\n",
            "249/249 [==============================] - 1s 3ms/step - loss: 0.3666 - accuracy: 0.8456\n",
            "Epoch 40/120\n",
            "249/249 [==============================] - 1s 3ms/step - loss: 0.3655 - accuracy: 0.8457\n",
            "Epoch 41/120\n",
            "249/249 [==============================] - 1s 4ms/step - loss: 0.3651 - accuracy: 0.8471\n",
            "Epoch 42/120\n",
            "249/249 [==============================] - 1s 3ms/step - loss: 0.3641 - accuracy: 0.8480\n",
            "Epoch 43/120\n",
            "249/249 [==============================] - 1s 3ms/step - loss: 0.3638 - accuracy: 0.8479\n",
            "Epoch 44/120\n",
            "249/249 [==============================] - 1s 3ms/step - loss: 0.3630 - accuracy: 0.8486\n",
            "Epoch 45/120\n",
            "249/249 [==============================] - 0s 2ms/step - loss: 0.3629 - accuracy: 0.8466\n",
            "Epoch 46/120\n",
            "249/249 [==============================] - 0s 2ms/step - loss: 0.3626 - accuracy: 0.8474\n",
            "Epoch 47/120\n",
            "249/249 [==============================] - 0s 2ms/step - loss: 0.3623 - accuracy: 0.8470\n",
            "Epoch 48/120\n",
            "249/249 [==============================] - 0s 2ms/step - loss: 0.3619 - accuracy: 0.8494\n",
            "Epoch 49/120\n",
            "249/249 [==============================] - 0s 2ms/step - loss: 0.3615 - accuracy: 0.8479\n",
            "Epoch 50/120\n",
            "249/249 [==============================] - 0s 2ms/step - loss: 0.3614 - accuracy: 0.8478\n",
            "Epoch 51/120\n",
            "249/249 [==============================] - 0s 2ms/step - loss: 0.3614 - accuracy: 0.8485\n",
            "Epoch 52/120\n",
            "249/249 [==============================] - 0s 2ms/step - loss: 0.3610 - accuracy: 0.8472\n",
            "Epoch 53/120\n",
            "249/249 [==============================] - 0s 2ms/step - loss: 0.3604 - accuracy: 0.8491\n",
            "Epoch 54/120\n",
            "249/249 [==============================] - 0s 2ms/step - loss: 0.3604 - accuracy: 0.8470\n",
            "Epoch 55/120\n",
            "249/249 [==============================] - 0s 2ms/step - loss: 0.3604 - accuracy: 0.8493\n",
            "Epoch 56/120\n",
            "249/249 [==============================] - 0s 2ms/step - loss: 0.3598 - accuracy: 0.8480\n",
            "Epoch 57/120\n",
            "249/249 [==============================] - 0s 2ms/step - loss: 0.3601 - accuracy: 0.8491\n",
            "Epoch 58/120\n",
            "249/249 [==============================] - 0s 2ms/step - loss: 0.3598 - accuracy: 0.8491\n",
            "Epoch 59/120\n",
            "249/249 [==============================] - 0s 2ms/step - loss: 0.3595 - accuracy: 0.8481\n",
            "Epoch 60/120\n",
            "249/249 [==============================] - 0s 2ms/step - loss: 0.3598 - accuracy: 0.8478\n",
            "Epoch 61/120\n",
            "249/249 [==============================] - 0s 2ms/step - loss: 0.3595 - accuracy: 0.8495\n",
            "Epoch 62/120\n",
            "249/249 [==============================] - 0s 2ms/step - loss: 0.3596 - accuracy: 0.8483\n",
            "Epoch 63/120\n",
            "249/249 [==============================] - 0s 2ms/step - loss: 0.3592 - accuracy: 0.8495\n",
            "Epoch 64/120\n",
            "249/249 [==============================] - 0s 2ms/step - loss: 0.3593 - accuracy: 0.8483\n",
            "Epoch 65/120\n",
            "249/249 [==============================] - 1s 2ms/step - loss: 0.3594 - accuracy: 0.8470\n",
            "Epoch 66/120\n",
            "249/249 [==============================] - 1s 3ms/step - loss: 0.3592 - accuracy: 0.8483\n",
            "Epoch 67/120\n",
            "249/249 [==============================] - 1s 3ms/step - loss: 0.3588 - accuracy: 0.8486\n",
            "Epoch 68/120\n",
            "249/249 [==============================] - 1s 3ms/step - loss: 0.3589 - accuracy: 0.8483\n",
            "Epoch 69/120\n",
            "249/249 [==============================] - 1s 3ms/step - loss: 0.3589 - accuracy: 0.8481\n",
            "Epoch 70/120\n",
            "249/249 [==============================] - 1s 3ms/step - loss: 0.3588 - accuracy: 0.8481\n",
            "Epoch 71/120\n",
            "249/249 [==============================] - 0s 2ms/step - loss: 0.3588 - accuracy: 0.8483\n",
            "Epoch 72/120\n",
            "249/249 [==============================] - 0s 2ms/step - loss: 0.3586 - accuracy: 0.8495\n",
            "Epoch 73/120\n",
            "249/249 [==============================] - 0s 2ms/step - loss: 0.3583 - accuracy: 0.8501\n",
            "Epoch 74/120\n",
            "249/249 [==============================] - 0s 2ms/step - loss: 0.3582 - accuracy: 0.8484\n",
            "Epoch 75/120\n",
            "249/249 [==============================] - 0s 2ms/step - loss: 0.3580 - accuracy: 0.8495\n",
            "Epoch 76/120\n",
            "249/249 [==============================] - 0s 2ms/step - loss: 0.3581 - accuracy: 0.8489\n",
            "Epoch 77/120\n",
            "249/249 [==============================] - 0s 2ms/step - loss: 0.3580 - accuracy: 0.8476\n",
            "Epoch 78/120\n",
            "249/249 [==============================] - 0s 2ms/step - loss: 0.3580 - accuracy: 0.8490\n",
            "Epoch 79/120\n",
            "249/249 [==============================] - 0s 2ms/step - loss: 0.3575 - accuracy: 0.8496\n",
            "Epoch 80/120\n",
            "249/249 [==============================] - 0s 2ms/step - loss: 0.3581 - accuracy: 0.8476\n",
            "Epoch 81/120\n",
            "249/249 [==============================] - 0s 2ms/step - loss: 0.3574 - accuracy: 0.8505\n",
            "Epoch 82/120\n",
            "249/249 [==============================] - 0s 2ms/step - loss: 0.3576 - accuracy: 0.8483\n",
            "Epoch 83/120\n",
            "249/249 [==============================] - 0s 2ms/step - loss: 0.3574 - accuracy: 0.8478\n",
            "Epoch 84/120\n",
            "249/249 [==============================] - 0s 2ms/step - loss: 0.3574 - accuracy: 0.8491\n",
            "Epoch 85/120\n",
            "249/249 [==============================] - 0s 2ms/step - loss: 0.3571 - accuracy: 0.8484\n",
            "Epoch 86/120\n",
            "249/249 [==============================] - 0s 2ms/step - loss: 0.3570 - accuracy: 0.8501\n",
            "Epoch 87/120\n",
            "249/249 [==============================] - 0s 2ms/step - loss: 0.3576 - accuracy: 0.8485\n",
            "Epoch 88/120\n",
            "249/249 [==============================] - 0s 2ms/step - loss: 0.3570 - accuracy: 0.8493\n",
            "Epoch 89/120\n",
            "249/249 [==============================] - 0s 2ms/step - loss: 0.3560 - accuracy: 0.8484\n",
            "Epoch 90/120\n",
            "249/249 [==============================] - 0s 2ms/step - loss: 0.3566 - accuracy: 0.8513\n",
            "Epoch 91/120\n",
            "249/249 [==============================] - 0s 2ms/step - loss: 0.3565 - accuracy: 0.8493\n",
            "Epoch 92/120\n",
            "249/249 [==============================] - 1s 2ms/step - loss: 0.3565 - accuracy: 0.8489\n",
            "Epoch 93/120\n",
            "249/249 [==============================] - 1s 3ms/step - loss: 0.3567 - accuracy: 0.8490\n",
            "Epoch 94/120\n",
            "249/249 [==============================] - 1s 3ms/step - loss: 0.3565 - accuracy: 0.8493\n",
            "Epoch 95/120\n",
            "249/249 [==============================] - 1s 3ms/step - loss: 0.3561 - accuracy: 0.8504\n",
            "Epoch 96/120\n",
            "249/249 [==============================] - 1s 3ms/step - loss: 0.3560 - accuracy: 0.8498\n",
            "Epoch 97/120\n",
            "249/249 [==============================] - 1s 4ms/step - loss: 0.3560 - accuracy: 0.8494\n",
            "Epoch 98/120\n",
            "249/249 [==============================] - 1s 3ms/step - loss: 0.3558 - accuracy: 0.8493\n",
            "Epoch 99/120\n",
            "249/249 [==============================] - 1s 4ms/step - loss: 0.3560 - accuracy: 0.8483\n",
            "Epoch 100/120\n",
            "249/249 [==============================] - 1s 3ms/step - loss: 0.3560 - accuracy: 0.8494\n",
            "Epoch 101/120\n",
            "249/249 [==============================] - 1s 3ms/step - loss: 0.3557 - accuracy: 0.8488\n",
            "Epoch 102/120\n",
            "249/249 [==============================] - 1s 4ms/step - loss: 0.3558 - accuracy: 0.8498\n",
            "Epoch 103/120\n",
            "249/249 [==============================] - 1s 4ms/step - loss: 0.3556 - accuracy: 0.8496\n",
            "Epoch 104/120\n",
            "249/249 [==============================] - 1s 3ms/step - loss: 0.3555 - accuracy: 0.8494\n",
            "Epoch 105/120\n",
            "249/249 [==============================] - 1s 3ms/step - loss: 0.3553 - accuracy: 0.8498\n",
            "Epoch 106/120\n",
            "249/249 [==============================] - 1s 3ms/step - loss: 0.3555 - accuracy: 0.8495\n",
            "Epoch 107/120\n",
            "249/249 [==============================] - 1s 3ms/step - loss: 0.3550 - accuracy: 0.8493\n",
            "Epoch 108/120\n",
            "249/249 [==============================] - 1s 2ms/step - loss: 0.3553 - accuracy: 0.8494\n",
            "Epoch 109/120\n",
            "249/249 [==============================] - 1s 3ms/step - loss: 0.3553 - accuracy: 0.8517\n",
            "Epoch 110/120\n",
            "249/249 [==============================] - 1s 3ms/step - loss: 0.3552 - accuracy: 0.8499\n",
            "Epoch 111/120\n",
            "249/249 [==============================] - 1s 3ms/step - loss: 0.3553 - accuracy: 0.8500\n",
            "Epoch 112/120\n",
            "249/249 [==============================] - 1s 3ms/step - loss: 0.3553 - accuracy: 0.8481\n",
            "Epoch 113/120\n",
            "249/249 [==============================] - 1s 3ms/step - loss: 0.3549 - accuracy: 0.8494\n",
            "Epoch 114/120\n",
            "249/249 [==============================] - 0s 2ms/step - loss: 0.3555 - accuracy: 0.8499\n",
            "Epoch 115/120\n",
            "249/249 [==============================] - 0s 2ms/step - loss: 0.3550 - accuracy: 0.8478\n",
            "Epoch 116/120\n",
            "249/249 [==============================] - 1s 2ms/step - loss: 0.3552 - accuracy: 0.8498\n",
            "Epoch 117/120\n",
            "249/249 [==============================] - 0s 2ms/step - loss: 0.3552 - accuracy: 0.8504\n",
            "Epoch 118/120\n",
            "249/249 [==============================] - 0s 2ms/step - loss: 0.3550 - accuracy: 0.8488\n",
            "Epoch 119/120\n",
            "249/249 [==============================] - 0s 2ms/step - loss: 0.3551 - accuracy: 0.8485\n",
            "Epoch 120/120\n",
            "249/249 [==============================] - 0s 2ms/step - loss: 0.3551 - accuracy: 0.8489\n"
          ]
        },
        {
          "output_type": "execute_result",
          "data": {
            "text/plain": [
              "<keras.src.callbacks.History at 0x7e0a4d16b760>"
            ]
          },
          "metadata": {},
          "execution_count": 16
        }
      ]
    },
    {
      "cell_type": "markdown",
      "source": [
        "Prediction"
      ],
      "metadata": {
        "id": "xZbBy388A2gG"
      }
    },
    {
      "cell_type": "markdown",
      "source": [
        "single prediction"
      ],
      "metadata": {
        "id": "piJEDfxNA21J"
      }
    },
    {
      "cell_type": "code",
      "source": [
        "print(ann.predict(sc.transform([[0.0, 0.1, 0.0, 501, 0, 32, 2, 0.0, 4, 1, 545501]])) > 0.5)"
      ],
      "metadata": {
        "colab": {
          "base_uri": "https://localhost:8080/"
        },
        "id": "OT7t8ZszE49U",
        "outputId": "44b64d82-7eac-4cad-eb0e-3ff6108b65d9"
      },
      "execution_count": 17,
      "outputs": [
        {
          "output_type": "stream",
          "name": "stdout",
          "text": [
            "1/1 [==============================] - 0s 159ms/step\n",
            "[[False]]\n"
          ]
        }
      ]
    },
    {
      "cell_type": "markdown",
      "source": [
        "prediction on dataset"
      ],
      "metadata": {
        "id": "s6goVYcgBAvk"
      }
    },
    {
      "cell_type": "code",
      "source": [
        "y_pred = ann.predict(x_test)\n",
        "y_pred = (y_pred > 0.5)\n",
        "print(np.concatenate((y_pred.reshape(len(y_pred), 1), y_test.reshape(len(y_test),1)),1))"
      ],
      "metadata": {
        "colab": {
          "base_uri": "https://localhost:8080/"
        },
        "id": "glpXaq52E5X6",
        "outputId": "86f4345b-dcd4-4054-8388-17d33f6c05a9"
      },
      "execution_count": 18,
      "outputs": [
        {
          "output_type": "stream",
          "name": "stdout",
          "text": [
            "63/63 [==============================] - 0s 3ms/step\n",
            "[[0 0]\n",
            " [0 0]\n",
            " [1 1]\n",
            " ...\n",
            " [0 1]\n",
            " [0 0]\n",
            " [0 0]]\n"
          ]
        }
      ]
    },
    {
      "cell_type": "markdown",
      "source": [
        "Confusion matrix"
      ],
      "metadata": {
        "id": "_5Iw_w-YBDSn"
      }
    },
    {
      "cell_type": "code",
      "execution_count": 19,
      "metadata": {
        "colab": {
          "base_uri": "https://localhost:8080/"
        },
        "id": "sClXYg_Qc7wU",
        "outputId": "ae992486-7344-4409-e87c-e2d48d41ed7e"
      },
      "outputs": [
        {
          "output_type": "stream",
          "name": "stdout",
          "text": [
            "[[1538   64]\n",
            " [ 222  162]]\n"
          ]
        },
        {
          "output_type": "execute_result",
          "data": {
            "text/plain": [
              "0.8559919436052367"
            ]
          },
          "metadata": {},
          "execution_count": 19
        }
      ],
      "source": [
        "from sklearn.metrics import confusion_matrix, accuracy_score\n",
        "cm = confusion_matrix(y_test, y_pred)\n",
        "print(cm)\n",
        "accuracy_score(y_test, y_pred)"
      ]
    }
  ]
}
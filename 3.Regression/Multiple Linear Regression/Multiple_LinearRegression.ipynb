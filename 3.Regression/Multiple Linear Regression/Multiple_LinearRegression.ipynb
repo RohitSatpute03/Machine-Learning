{
  "nbformat": 4,
  "nbformat_minor": 0,
  "metadata": {
    "colab": {
      "provenance": []
    },
    "kernelspec": {
      "name": "python3",
      "display_name": "Python 3"
    },
    "language_info": {
      "name": "python"
    }
  },
  "cells": [
    {
      "cell_type": "markdown",
      "source": [
        "Importing the libraries"
      ],
      "metadata": {
        "id": "ofda75MvetY_"
      }
    },
    {
      "cell_type": "code",
      "source": [
        "import numpy as np\n",
        "import pandas as pd\n",
        "import matplotlib.pyplot as plt"
      ],
      "metadata": {
        "id": "L7fPZ13mezas"
      },
      "execution_count": 6,
      "outputs": []
    },
    {
      "cell_type": "markdown",
      "source": [
        "Importing data sets\n"
      ],
      "metadata": {
        "id": "jm6KtyACe0HP"
      }
    },
    {
      "cell_type": "code",
      "source": [
        "data_set = pd.read_csv(\"/content/Dataset_master.xlsx - Covid_data Multiple Linear Regr.csv\")\n",
        "#Predict the number of anti bodies and does that patiant needs to be hospitalized\n",
        "\n",
        "x = data_set.iloc[:, :-1].values\n",
        "y = data_set.iloc[:, -1].values"
      ],
      "metadata": {
        "id": "jVVGY1tNe73k"
      },
      "execution_count": 7,
      "outputs": []
    },
    {
      "cell_type": "code",
      "source": [
        "print(x)\n",
        "print(y)"
      ],
      "metadata": {
        "colab": {
          "base_uri": "https://localhost:8080/"
        },
        "id": "ADdMQl_Pg445",
        "outputId": "245959bf-aec9-4e43-8757-0bb50cae62ea"
      },
      "execution_count": 8,
      "outputs": [
        {
          "output_type": "stream",
          "name": "stdout",
          "text": [
            "[[10 'Moderate' 0 97]\n",
            " [80 'High' 0 92]\n",
            " [10 'Low' 0 97]\n",
            " [81 'High' 4 75]\n",
            " [12 'Moderate' 0 97]\n",
            " [18 'Low' 0 66]\n",
            " [13 'Moderate' 0 93]\n",
            " [94 'High' 4 64]\n",
            " [86 'High' 2 76]\n",
            " [20 'Moderate' 0 92]\n",
            " [15 'Moderate' 0 94]\n",
            " [15 'Moderate' 0 92]\n",
            " [16 'Low' 0 92]\n",
            " [17 'Moderate' 0 93]\n",
            " [18 'Moderate' 0 93]\n",
            " [19 'Moderate' 0 92]\n",
            " [19 'Moderate' 0 89]\n",
            " [12 'Moderate' 0 97]\n",
            " [20 'Moderate' 0 93]\n",
            " [24 'Moderate' 0 92]\n",
            " [25 'Moderate' 0 93]\n",
            " [59 'High' 2 68]\n",
            " [63 'High' 1 66]\n",
            " [25 'Moderate' 1 62]\n",
            " [26 'High' 0 94]\n",
            " [26 'Low' 0 97]\n",
            " [28 'Moderate' 0 99]\n",
            " [59 'High' 0 69]\n",
            " [28 'Moderate' 0 89]\n",
            " [29 'Moderate' 0 93]\n",
            " [48 'Moderate' 0 93]\n",
            " [30 'Moderate' 0 62]\n",
            " [30 'Moderate' 0 86]\n",
            " [32 'Moderate' 0 84]\n",
            " [34 'Moderate' 1 90]\n",
            " [35 'Moderate' 0 89]\n",
            " [50 'High' 2 77]\n",
            " [56 'High' 2 76]\n",
            " [56 'High' 1 77]\n",
            " [36 'High' 1 90]\n",
            " [38 'High' 2 75]\n",
            " [40 'Moderate' 0 90]\n",
            " [40 'High' 0 92]\n",
            " [61 'High' 2 76]\n",
            " [42 'High' 0 92]\n",
            " [46 'High' 0 91]\n",
            " [49 'Moderate' 0 80]\n",
            " [52 'High' 1 80]\n",
            " [32 'Moderate' 0 89]\n",
            " [53 'High' 1 55]\n",
            " [54 'High' 1 70]\n",
            " [90 'High' 3 67]\n",
            " [78 'High' 2 71]\n",
            " [58 'High' 0 70]\n",
            " [60 'High' 1 68]\n",
            " [61 'Moderate' 0 90]\n",
            " [62 'High' 1 68]\n",
            " [86 'High' 3 71]\n",
            " [62 'High' 2 69]\n",
            " [64 'High' 1 73]\n",
            " [68 'High' 1 67]\n",
            " [69 'High' 0 53]\n",
            " [70 'Moderate' 1 88]\n",
            " [74 'High' 2 75]\n",
            " [75 'High' 1 72]\n",
            " [76 'High' 4 80]\n",
            " [35 'Moderate' 0 92]\n",
            " [13 'Moderate' 0 94]\n",
            " [82 'High' 3 73]\n",
            " [84 'High' 3 75]]\n",
            "[127181  61004 111911  39010 110911  99110 110101  37914  45019  98101\n",
            " 101000 102019 100000  99910  99004  98191  98081 110911  97101  95202\n",
            "  95010  61002  59994  78010  92010  99008  93010  66019  93091  92101\n",
            "  83891  75012  91002  90015  90001  90124  71019  60801  67010  90191\n",
            "  78004  87019  88012  62019  87005  84008  77010  73010  91019  50104\n",
            "  61082  46016  52001  63091  62019  71191  61018  41891  56095  62001\n",
            "  59010  59913  67019  58010  57019  39010  91141 112101  42010  42099]\n"
          ]
        }
      ]
    },
    {
      "cell_type": "markdown",
      "source": [
        "Encoding categorical data\n"
      ],
      "metadata": {
        "id": "YdnSRkR696fk"
      }
    },
    {
      "cell_type": "code",
      "source": [
        "from sklearn.compose import ColumnTransformer\n",
        "from sklearn.preprocessing import OneHotEncoder\n",
        "ct = ColumnTransformer(transformers = [('encoder', OneHotEncoder(),[1])], remainder='passthrough')\n",
        "x = np.array(ct.fit_transform(x))\n",
        "print(x)"
      ],
      "metadata": {
        "colab": {
          "base_uri": "https://localhost:8080/"
        },
        "id": "N1hizS4Y-AAe",
        "outputId": "3c8aeb1b-01a6-41ea-9b0f-be4cdc421671"
      },
      "execution_count": 12,
      "outputs": [
        {
          "output_type": "stream",
          "name": "stdout",
          "text": [
            "[[1.0 0.0 0.0 1.0 10 0 97]\n",
            " [1.0 0.0 1.0 0.0 80 0 92]\n",
            " [0.0 1.0 0.0 0.0 10 0 97]\n",
            " [1.0 0.0 1.0 0.0 81 4 75]\n",
            " [1.0 0.0 0.0 1.0 12 0 97]\n",
            " [0.0 1.0 0.0 0.0 18 0 66]\n",
            " [1.0 0.0 0.0 1.0 13 0 93]\n",
            " [1.0 0.0 1.0 0.0 94 4 64]\n",
            " [1.0 0.0 1.0 0.0 86 2 76]\n",
            " [1.0 0.0 0.0 1.0 20 0 92]\n",
            " [1.0 0.0 0.0 1.0 15 0 94]\n",
            " [1.0 0.0 0.0 1.0 15 0 92]\n",
            " [0.0 1.0 0.0 0.0 16 0 92]\n",
            " [1.0 0.0 0.0 1.0 17 0 93]\n",
            " [1.0 0.0 0.0 1.0 18 0 93]\n",
            " [1.0 0.0 0.0 1.0 19 0 92]\n",
            " [1.0 0.0 0.0 1.0 19 0 89]\n",
            " [1.0 0.0 0.0 1.0 12 0 97]\n",
            " [1.0 0.0 0.0 1.0 20 0 93]\n",
            " [1.0 0.0 0.0 1.0 24 0 92]\n",
            " [1.0 0.0 0.0 1.0 25 0 93]\n",
            " [1.0 0.0 1.0 0.0 59 2 68]\n",
            " [1.0 0.0 1.0 0.0 63 1 66]\n",
            " [1.0 0.0 0.0 1.0 25 1 62]\n",
            " [1.0 0.0 1.0 0.0 26 0 94]\n",
            " [0.0 1.0 0.0 0.0 26 0 97]\n",
            " [1.0 0.0 0.0 1.0 28 0 99]\n",
            " [1.0 0.0 1.0 0.0 59 0 69]\n",
            " [1.0 0.0 0.0 1.0 28 0 89]\n",
            " [1.0 0.0 0.0 1.0 29 0 93]\n",
            " [1.0 0.0 0.0 1.0 48 0 93]\n",
            " [1.0 0.0 0.0 1.0 30 0 62]\n",
            " [1.0 0.0 0.0 1.0 30 0 86]\n",
            " [1.0 0.0 0.0 1.0 32 0 84]\n",
            " [1.0 0.0 0.0 1.0 34 1 90]\n",
            " [1.0 0.0 0.0 1.0 35 0 89]\n",
            " [1.0 0.0 1.0 0.0 50 2 77]\n",
            " [1.0 0.0 1.0 0.0 56 2 76]\n",
            " [1.0 0.0 1.0 0.0 56 1 77]\n",
            " [1.0 0.0 1.0 0.0 36 1 90]\n",
            " [1.0 0.0 1.0 0.0 38 2 75]\n",
            " [1.0 0.0 0.0 1.0 40 0 90]\n",
            " [1.0 0.0 1.0 0.0 40 0 92]\n",
            " [1.0 0.0 1.0 0.0 61 2 76]\n",
            " [1.0 0.0 1.0 0.0 42 0 92]\n",
            " [1.0 0.0 1.0 0.0 46 0 91]\n",
            " [1.0 0.0 0.0 1.0 49 0 80]\n",
            " [1.0 0.0 1.0 0.0 52 1 80]\n",
            " [1.0 0.0 0.0 1.0 32 0 89]\n",
            " [1.0 0.0 1.0 0.0 53 1 55]\n",
            " [1.0 0.0 1.0 0.0 54 1 70]\n",
            " [1.0 0.0 1.0 0.0 90 3 67]\n",
            " [1.0 0.0 1.0 0.0 78 2 71]\n",
            " [1.0 0.0 1.0 0.0 58 0 70]\n",
            " [1.0 0.0 1.0 0.0 60 1 68]\n",
            " [1.0 0.0 0.0 1.0 61 0 90]\n",
            " [1.0 0.0 1.0 0.0 62 1 68]\n",
            " [1.0 0.0 1.0 0.0 86 3 71]\n",
            " [1.0 0.0 1.0 0.0 62 2 69]\n",
            " [1.0 0.0 1.0 0.0 64 1 73]\n",
            " [1.0 0.0 1.0 0.0 68 1 67]\n",
            " [1.0 0.0 1.0 0.0 69 0 53]\n",
            " [1.0 0.0 0.0 1.0 70 1 88]\n",
            " [1.0 0.0 1.0 0.0 74 2 75]\n",
            " [1.0 0.0 1.0 0.0 75 1 72]\n",
            " [1.0 0.0 1.0 0.0 76 4 80]\n",
            " [1.0 0.0 0.0 1.0 35 0 92]\n",
            " [1.0 0.0 0.0 1.0 13 0 94]\n",
            " [1.0 0.0 1.0 0.0 82 3 73]\n",
            " [1.0 0.0 1.0 0.0 84 3 75]]\n"
          ]
        }
      ]
    },
    {
      "cell_type": "markdown",
      "source": [
        "splitting dataset into training and testing\n"
      ],
      "metadata": {
        "id": "3JblrE2re8Q1"
      }
    },
    {
      "cell_type": "code",
      "source": [
        "from sklearn.model_selection import train_test_split\n",
        "x_train, x_test, y_train, y_test = train_test_split(x,y, test_size=0.3, random_state = 0)"
      ],
      "metadata": {
        "id": "RvMh9hQ_fC05"
      },
      "execution_count": 23,
      "outputs": []
    },
    {
      "cell_type": "markdown",
      "source": [
        "training using multilple linear regression\n"
      ],
      "metadata": {
        "id": "32maZnVAfDFT"
      }
    },
    {
      "cell_type": "code",
      "source": [
        "from sklearn.linear_model import LinearRegression\n",
        "regressor = LinearRegression()\n",
        "regressor.fit(x_train, y_train)"
      ],
      "metadata": {
        "colab": {
          "base_uri": "https://localhost:8080/",
          "height": 74
        },
        "id": "XG17vOd8fJJW",
        "outputId": "29c10f43-0abd-4e55-f3e2-f5ed9ede9e60"
      },
      "execution_count": 24,
      "outputs": [
        {
          "output_type": "execute_result",
          "data": {
            "text/plain": [
              "LinearRegression()"
            ],
            "text/html": [
              "<style>#sk-container-id-4 {color: black;background-color: white;}#sk-container-id-4 pre{padding: 0;}#sk-container-id-4 div.sk-toggleable {background-color: white;}#sk-container-id-4 label.sk-toggleable__label {cursor: pointer;display: block;width: 100%;margin-bottom: 0;padding: 0.3em;box-sizing: border-box;text-align: center;}#sk-container-id-4 label.sk-toggleable__label-arrow:before {content: \"▸\";float: left;margin-right: 0.25em;color: #696969;}#sk-container-id-4 label.sk-toggleable__label-arrow:hover:before {color: black;}#sk-container-id-4 div.sk-estimator:hover label.sk-toggleable__label-arrow:before {color: black;}#sk-container-id-4 div.sk-toggleable__content {max-height: 0;max-width: 0;overflow: hidden;text-align: left;background-color: #f0f8ff;}#sk-container-id-4 div.sk-toggleable__content pre {margin: 0.2em;color: black;border-radius: 0.25em;background-color: #f0f8ff;}#sk-container-id-4 input.sk-toggleable__control:checked~div.sk-toggleable__content {max-height: 200px;max-width: 100%;overflow: auto;}#sk-container-id-4 input.sk-toggleable__control:checked~label.sk-toggleable__label-arrow:before {content: \"▾\";}#sk-container-id-4 div.sk-estimator input.sk-toggleable__control:checked~label.sk-toggleable__label {background-color: #d4ebff;}#sk-container-id-4 div.sk-label input.sk-toggleable__control:checked~label.sk-toggleable__label {background-color: #d4ebff;}#sk-container-id-4 input.sk-hidden--visually {border: 0;clip: rect(1px 1px 1px 1px);clip: rect(1px, 1px, 1px, 1px);height: 1px;margin: -1px;overflow: hidden;padding: 0;position: absolute;width: 1px;}#sk-container-id-4 div.sk-estimator {font-family: monospace;background-color: #f0f8ff;border: 1px dotted black;border-radius: 0.25em;box-sizing: border-box;margin-bottom: 0.5em;}#sk-container-id-4 div.sk-estimator:hover {background-color: #d4ebff;}#sk-container-id-4 div.sk-parallel-item::after {content: \"\";width: 100%;border-bottom: 1px solid gray;flex-grow: 1;}#sk-container-id-4 div.sk-label:hover label.sk-toggleable__label {background-color: #d4ebff;}#sk-container-id-4 div.sk-serial::before {content: \"\";position: absolute;border-left: 1px solid gray;box-sizing: border-box;top: 0;bottom: 0;left: 50%;z-index: 0;}#sk-container-id-4 div.sk-serial {display: flex;flex-direction: column;align-items: center;background-color: white;padding-right: 0.2em;padding-left: 0.2em;position: relative;}#sk-container-id-4 div.sk-item {position: relative;z-index: 1;}#sk-container-id-4 div.sk-parallel {display: flex;align-items: stretch;justify-content: center;background-color: white;position: relative;}#sk-container-id-4 div.sk-item::before, #sk-container-id-4 div.sk-parallel-item::before {content: \"\";position: absolute;border-left: 1px solid gray;box-sizing: border-box;top: 0;bottom: 0;left: 50%;z-index: -1;}#sk-container-id-4 div.sk-parallel-item {display: flex;flex-direction: column;z-index: 1;position: relative;background-color: white;}#sk-container-id-4 div.sk-parallel-item:first-child::after {align-self: flex-end;width: 50%;}#sk-container-id-4 div.sk-parallel-item:last-child::after {align-self: flex-start;width: 50%;}#sk-container-id-4 div.sk-parallel-item:only-child::after {width: 0;}#sk-container-id-4 div.sk-dashed-wrapped {border: 1px dashed gray;margin: 0 0.4em 0.5em 0.4em;box-sizing: border-box;padding-bottom: 0.4em;background-color: white;}#sk-container-id-4 div.sk-label label {font-family: monospace;font-weight: bold;display: inline-block;line-height: 1.2em;}#sk-container-id-4 div.sk-label-container {text-align: center;}#sk-container-id-4 div.sk-container {/* jupyter's `normalize.less` sets `[hidden] { display: none; }` but bootstrap.min.css set `[hidden] { display: none !important; }` so we also need the `!important` here to be able to override the default hidden behavior on the sphinx rendered scikit-learn.org. See: https://github.com/scikit-learn/scikit-learn/issues/21755 */display: inline-block !important;position: relative;}#sk-container-id-4 div.sk-text-repr-fallback {display: none;}</style><div id=\"sk-container-id-4\" class=\"sk-top-container\"><div class=\"sk-text-repr-fallback\"><pre>LinearRegression()</pre><b>In a Jupyter environment, please rerun this cell to show the HTML representation or trust the notebook. <br />On GitHub, the HTML representation is unable to render, please try loading this page with nbviewer.org.</b></div><div class=\"sk-container\" hidden><div class=\"sk-item\"><div class=\"sk-estimator sk-toggleable\"><input class=\"sk-toggleable__control sk-hidden--visually\" id=\"sk-estimator-id-4\" type=\"checkbox\" checked><label for=\"sk-estimator-id-4\" class=\"sk-toggleable__label sk-toggleable__label-arrow\">LinearRegression</label><div class=\"sk-toggleable__content\"><pre>LinearRegression()</pre></div></div></div></div></div>"
            ]
          },
          "metadata": {},
          "execution_count": 24
        }
      ]
    },
    {
      "cell_type": "markdown",
      "source": [
        "prediction on test set"
      ],
      "metadata": {
        "id": "hzo0WGsffJ38"
      }
    },
    {
      "cell_type": "code",
      "source": [
        "y_pred = regressor.predict(x_test)\n",
        "np.set_printoptions(precision=3)\n",
        "print(np.concatenate((y_pred.reshape(len(y_pred),1),y_test.reshape(len(y_test),1)),1))"
      ],
      "metadata": {
        "colab": {
          "base_uri": "https://localhost:8080/"
        },
        "id": "OwRp0iUPfOSf",
        "outputId": "3c86c2ee-b93a-4fae-f877-50c164d8e30c"
      },
      "execution_count": 25,
      "outputs": [
        {
          "output_type": "stream",
          "name": "stdout",
          "text": [
            "[[ 98425.796  93010.   ]\n",
            " [ 65642.292  66019.   ]\n",
            " [ 91524.677  91019.   ]\n",
            " [ 58819.1    59994.   ]\n",
            " [ 83159.044  83891.   ]\n",
            " [ 36222.332  46016.   ]\n",
            " [ 29399.14   37914.   ]\n",
            " [ 61247.661  62001.   ]\n",
            " [ 87714.798  90001.   ]\n",
            " [ 43513.286  42099.   ]\n",
            " [ 60325.757  61018.   ]\n",
            " [ 94053.331  93091.   ]\n",
            " [ 80983.35   75012.   ]\n",
            " [ 87710.07   88012.   ]\n",
            " [ 89338.444  90015.   ]\n",
            " [ 73629.177  71191.   ]\n",
            " [ 43903.12   42010.   ]\n",
            " [ 64082.413  67019.   ]\n",
            " [ 61473.094  62019.   ]\n",
            " [107665.922 110911.   ]\n",
            " [ 47774.029  39010.   ]]\n"
          ]
        }
      ]
    },
    {
      "cell_type": "markdown",
      "source": [
        "visualization result"
      ],
      "metadata": {
        "id": "aDnpyIVIfOef"
      }
    },
    {
      "cell_type": "code",
      "source": [
        "plt.plot(y_pred)\n",
        "plt.plot(y_test)\n",
        "plt.show()"
      ],
      "metadata": {
        "colab": {
          "base_uri": "https://localhost:8080/",
          "height": 430
        },
        "id": "0ttiMWHpfQ1P",
        "outputId": "a5b2d5fa-1c73-42f6-86b8-c5c494e9db19"
      },
      "execution_count": 26,
      "outputs": [
        {
          "output_type": "display_data",
          "data": {
            "text/plain": [
              "<Figure size 640x480 with 1 Axes>"
            ],
            "image/png": "[encoded data removed]"
          },
          "metadata": {}
        }
      ]
    }
  ]
}
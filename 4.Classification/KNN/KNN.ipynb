{
  "nbformat": 4,
  "nbformat_minor": 0,
  "metadata": {
    "colab": {
      "provenance": []
    },
    "kernelspec": {
      "name": "python3",
      "display_name": "Python 3"
    },
    "language_info": {
      "name": "python"
    }
  },
  "cells": [
    {
      "cell_type": "markdown",
      "source": [
        "Import libraries"
      ],
      "metadata": {
        "id": "RbKGmd3ViOQu"
      }
    },
    {
      "cell_type": "code",
      "source": [
        "import numpy as np\n",
        "import pandas as pd"
      ],
      "metadata": {
        "id": "EVDWUQ0HiTnM"
      },
      "execution_count": 1,
      "outputs": []
    },
    {
      "cell_type": "markdown",
      "source": [
        "Import dataset"
      ],
      "metadata": {
        "id": "kEHbQ4Oyibcc"
      }
    },
    {
      "cell_type": "code",
      "source": [
        "data_set = pd.read_csv(\"/content/Dataset_master.xlsx - Loan Distribution KNN Classific.csv\")\n",
        "# existing loans and credit score is given, and based on this decide the loan should be given or not\n",
        "\n",
        "x = data_set.iloc[:, :-1].values\n",
        "y = data_set.iloc[:, -1].values"
      ],
      "metadata": {
        "id": "K9mOxDl5iehF"
      },
      "execution_count": 4,
      "outputs": []
    },
    {
      "cell_type": "code",
      "source": [
        "print(x)\n",
        "print(y)"
      ],
      "metadata": {
        "colab": {
          "base_uri": "https://localhost:8080/"
        },
        "id": "JNYVZhjwdvOu",
        "outputId": "09c96852-1a28-4931-c2d2-c4e26b766071"
      },
      "execution_count": 5,
      "outputs": [
        {
          "output_type": "stream",
          "name": "stdout",
          "text": [
            "[[  0  84]\n",
            " [  0 100]\n",
            " [  0 100]\n",
            " [  0 106]\n",
            " [  0 112]\n",
            " [  0 112]\n",
            " [  0 112]\n",
            " [  0 117]\n",
            " [  0 117]\n",
            " [  0 123]\n",
            " [  0 123]\n",
            " [  0 123]\n",
            " [  0 128]\n",
            " [  0 128]\n",
            " [  0 128]\n",
            " [  0 145]\n",
            " [  0 145]\n",
            " [  0 150]\n",
            " [  0 156]\n",
            " [  0 156]\n",
            " [  0 167]\n",
            " [  0 178]\n",
            " [  0 178]\n",
            " [  0 178]\n",
            " [  0 184]\n",
            " [  0 184]\n",
            " [  0 189]\n",
            " [  0 195]\n",
            " [  0 200]\n",
            " [  0 200]\n",
            " [  0 212]\n",
            " [  0 217]\n",
            " [  0 217]\n",
            " [  0 217]\n",
            " [  0 228]\n",
            " [  0 234]\n",
            " [  0 234]\n",
            " [  0 239]\n",
            " [  0 239]\n",
            " [  0 239]\n",
            " [  0 239]\n",
            " [  0 239]\n",
            " [  0 245]\n",
            " [  0 262]\n",
            " [  0 262]\n",
            " [  0 262]\n",
            " [  0 267]\n",
            " [  0 278]\n",
            " [  0 278]\n",
            " [  0 278]\n",
            " [  0 284]\n",
            " [  0 284]\n",
            " [  0 289]\n",
            " [  0 289]\n",
            " [  0 289]\n",
            " [  0 295]\n",
            " [  0 300]\n",
            " [  0 300]\n",
            " [  0 306]\n",
            " [  0 306]\n",
            " [  0 306]\n",
            " [  0 317]\n",
            " [  0 317]\n",
            " [  0 323]\n",
            " [  0 323]\n",
            " [  0 323]\n",
            " [  0 328]\n",
            " [  0 334]\n",
            " [  0 334]\n",
            " [  0 334]\n",
            " [  0 334]\n",
            " [  1 339]\n",
            " [  0 339]\n",
            " [  1 345]\n",
            " [  0 350]\n",
            " [  1 350]\n",
            " [  0 362]\n",
            " [  0 362]\n",
            " [  0 362]\n",
            " [  1 362]\n",
            " [  1 367]\n",
            " [  0 378]\n",
            " [  0 389]\n",
            " [  0 389]\n",
            " [  0 395]\n",
            " [  0 395]\n",
            " [  0 395]\n",
            " [  0 395]\n",
            " [  0 395]\n",
            " [  0 400]\n",
            " [  0 400]\n",
            " [  0 400]\n",
            " [  0 400]\n",
            " [  0 400]\n",
            " [  0 400]\n",
            " [  0 400]\n",
            " [  0 406]\n",
            " [  0 406]\n",
            " [  0 407]\n",
            " [  0 412]\n",
            " [  0 412]\n",
            " [  0 412]\n",
            " [  0 417]\n",
            " [  0 417]\n",
            " [  0 423]\n",
            " [  0 423]\n",
            " [  0 428]\n",
            " [  0 434]\n",
            " [  0 434]\n",
            " [  0 439]\n",
            " [  0 439]\n",
            " [  0 439]\n",
            " [  0 439]\n",
            " [  0 439]\n",
            " [  0 439]\n",
            " [  0 439]\n",
            " [  0 439]\n",
            " [  0 439]\n",
            " [  0 445]\n",
            " [  0 445]\n",
            " [  0 445]\n",
            " [  0 445]\n",
            " [  0 445]\n",
            " [  0 445]\n",
            " [  0 445]\n",
            " [  0 456]\n",
            " [  0 456]\n",
            " [  0 456]\n",
            " [  0 462]\n",
            " [  0 462]\n",
            " [  0 467]\n",
            " [  0 467]\n",
            " [  0 478]\n",
            " [  1 478]\n",
            " [  1 484]\n",
            " [  1 489]\n",
            " [  0 489]\n",
            " [  1 489]\n",
            " [  0 489]\n",
            " [  1 495]\n",
            " [  1 495]\n",
            " [  1 495]\n",
            " [  0 495]\n",
            " [  0 500]\n",
            " [  1 500]\n",
            " [  0 500]\n",
            " [  1 506]\n",
            " [  0 517]\n",
            " [  0 528]\n",
            " [  0 534]\n",
            " [  1 534]\n",
            " [  0 539]\n",
            " [  0 562]\n",
            " [  2 567]\n",
            " [  0 578]\n",
            " [  0 578]\n",
            " [  2 589]\n",
            " [  0 595]\n",
            " [  2 600]\n",
            " [  0 600]\n",
            " [  0 600]\n",
            " [  0 623]\n",
            " [  1 628]\n",
            " [  1 628]\n",
            " [  1 634]\n",
            " [  1 639]\n",
            " [  1 645]\n",
            " [  1 650]\n",
            " [  0 650]\n",
            " [  0 656]\n",
            " [  0 662]\n",
            " [  0 667]\n",
            " [  0 678]\n",
            " [  0 700]\n",
            " [  0 717]\n",
            " [  1 723]\n",
            " [  1 728]\n",
            " [  1 728]\n",
            " [  1 739]\n",
            " [  1 739]\n",
            " [  1 745]\n",
            " [  1 745]\n",
            " [  2 745]\n",
            " [  2 750]\n",
            " [  1 767]\n",
            " [  1 767]\n",
            " [  1 784]\n",
            " [  1 784]\n",
            " [  2 789]\n",
            " [  1 795]\n",
            " [  1 795]\n",
            " [  2 800]\n",
            " [  1 800]\n",
            " [  1 800]\n",
            " [  2 812]\n",
            " [  0 817]\n",
            " [  0 823]\n",
            " [  0 828]\n",
            " [  0 828]\n",
            " [  2 834]\n",
            " [  2 834]\n",
            " [  2 838]\n",
            " [  2 840]\n",
            " [  1 842]\n",
            " [  2 842]\n",
            " [  2 845]\n",
            " [  2 848]\n",
            " [  2 850]\n",
            " [  0 855]\n",
            " [  1 860]\n",
            " [  3 865]\n",
            " [  2 866]\n",
            " [  2 867]\n",
            " [  2 888]\n",
            " [  2 888]\n",
            " [  2 888]\n",
            " [  3 890]\n",
            " [  2 890]\n",
            " [  2 890]\n",
            " [  2 890]\n",
            " [  2 892]\n",
            " [  3 892]\n",
            " [  3 892]\n",
            " [  2 894]\n",
            " [  2 896]\n",
            " [  3 900]]\n",
            "[0 0 0 0 0 0 0 0 1 0 0 0 0 0 0 0 0 0 0 0 0 0 0 0 0 0 0 0 0 0 0 0 0 0 0 0 0\n",
            " 0 0 0 0 0 0 0 0 0 0 0 0 0 0 0 0 0 0 0 0 0 0 0 0 0 0 0 0 0 0 1 0 0 1 0 0 0\n",
            " 0 0 0 0 0 0 0 0 0 1 0 0 0 0 0 0 0 0 0 0 0 0 0 0 0 0 0 1 0 0 0 1 0 0 0 0 0\n",
            " 0 0 1 0 0 0 1 0 1 1 0 1 1 1 1 1 1 1 1 1 1 1 0 0 0 1 0 1 0 0 0 1 1 0 1 0 1\n",
            " 1 1 0 1 1 0 1 1 0 1 0 1 1 1 1 1 1 1 1 1 1 1 1 1 1 1 1 1 1 1 1 1 1 1 0 0 1\n",
            " 1 1 1 0 1 1 0 1 1 0 1 1 1 1 1 0 1 1 1 1 1 1 1 1 1 0 1 1 1 1 1 0 1 1 1 1 0\n",
            " 0 1 1 0]\n"
          ]
        }
      ]
    },
    {
      "cell_type": "markdown",
      "source": [
        "Splitting data in train and test set"
      ],
      "metadata": {
        "id": "eEOms0kmeOai"
      }
    },
    {
      "cell_type": "code",
      "source": [
        "from sklearn.model_selection import train_test_split\n",
        "x_train, x_test, y_train, y_test = train_test_split(x, y, test_size=0.3, random_state=21)"
      ],
      "metadata": {
        "id": "-yGm03LgeUPd"
      },
      "execution_count": 23,
      "outputs": []
    },
    {
      "cell_type": "markdown",
      "source": [
        "Feature scaling"
      ],
      "metadata": {
        "id": "NUAQ3TsyerNf"
      }
    },
    {
      "cell_type": "code",
      "source": [
        "from sklearn.preprocessing import StandardScaler\n",
        "sc = StandardScaler()\n",
        "x_train = sc.fit_transform(x_train)\n",
        "x_test = sc.transform(x_test)"
      ],
      "metadata": {
        "id": "SHQSQ-Gqety2"
      },
      "execution_count": 25,
      "outputs": []
    },
    {
      "cell_type": "code",
      "source": [
        "print(x_train)"
      ],
      "metadata": {
        "colab": {
          "base_uri": "https://localhost:8080/"
        },
        "id": "H-3hgo5ZfyCA",
        "outputId": "4009664b-2d52-4fe0-f0e0-27ba10d06749"
      },
      "execution_count": 26,
      "outputs": [
        {
          "output_type": "stream",
          "name": "stdout",
          "text": [
            "[[-0.56962577 -1.47477748]\n",
            " [ 0.73473469  0.27870758]\n",
            " [-0.56962577  1.50096441]\n",
            " [ 2.03909516  1.19000154]\n",
            " [ 2.03909516  1.84215977]\n",
            " [ 2.03909516  1.8162462 ]\n",
            " [-0.56962577  0.27870758]\n",
            " [-0.56962577 -0.89604103]\n",
            " [-0.56962577 -1.25883105]\n",
            " [-0.56962577 -0.24820173]\n",
            " [-0.56962577 -0.34753709]\n",
            " [-0.56962577  0.08435579]\n",
            " [-0.56962577 -1.5222857 ]\n",
            " [-0.56962577 -0.13159065]\n",
            " [-0.56962577 -0.20069351]\n",
            " [ 2.03909516  1.47936976]\n",
            " [-0.56962577 -0.22660708]\n",
            " [ 2.03909516  1.8162462 ]\n",
            " [-0.56962577 -0.13159065]\n",
            " [ 0.73473469  1.28501797]\n",
            " [-0.56962577 -0.20069351]\n",
            " [-0.56962577 -0.46414816]\n",
            " [-0.56962577  0.99564975]\n",
            " [ 2.03909516  1.83352192]\n",
            " [-0.56962577 -1.66481035]\n",
            " [-0.56962577 -0.17909887]\n",
            " [-0.56962577 -1.04288461]\n",
            " [-0.56962577 -1.40135569]\n",
            " [ 2.03909516  1.21159618]\n",
            " [-0.56962577 -0.58507817]\n",
            " [-0.56962577 -0.10567708]\n",
            " [-0.56962577 -1.49637213]\n",
            " [ 2.03909516  1.71691084]\n",
            " [-0.56962577  0.54216223]\n",
            " [ 3.34345563  1.70827298]\n",
            " [ 0.73473469  1.42754262]\n",
            " [ 0.73473469  1.19000154]\n",
            " [-0.56962577 -0.01066065]\n",
            " [-0.56962577 -0.9953764 ]\n",
            " [-0.56962577 -0.01066065]\n",
            " [ 2.03909516  0.56375687]\n",
            " [-0.56962577 -0.30002887]\n",
            " [-0.56962577 -0.87444639]\n",
            " [-0.56962577 -0.9953764 ]\n",
            " [-0.56962577 -0.30002887]\n",
            " [-0.56962577 -1.56979392]\n",
            " [-0.56962577  0.131864  ]\n",
            " [-0.56962577  0.46874044]\n",
            " [-0.56962577 -1.16381462]\n",
            " [ 0.73473469 -0.53756995]\n",
            " [ 0.73473469  1.16408797]\n",
            " [-0.56962577  0.08435579]\n",
            " [-0.56962577 -1.01697104]\n",
            " [-0.56962577 -0.24820173]\n",
            " [-0.56962577 -0.75351639]\n",
            " [-0.56962577 -0.13159065]\n",
            " [ 0.73473469  1.11657975]\n",
            " [-0.56962577 -0.46414816]\n",
            " [-0.56962577 -0.05816886]\n",
            " [-0.56962577 -1.49637213]\n",
            " [ 0.73473469  0.68468688]\n",
            " [-0.56962577 -0.82693818]\n",
            " [-0.56962577 -0.63258638]\n",
            " [ 0.73473469  0.11026936]\n",
            " [-0.56962577 -0.58507817]\n",
            " [-0.56962577 -0.3950453 ]\n",
            " [-0.56962577 -0.30002887]\n",
            " [-0.56962577 -0.51597531]\n",
            " [-0.56962577 -0.32162351]\n",
            " [-0.56962577 -1.09039283]\n",
            " [-0.56962577 -1.09039283]\n",
            " [-0.56962577 -1.18540926]\n",
            " [-0.56962577  0.11026936]\n",
            " [-0.56962577 -0.8010246 ]\n",
            " [-0.56962577 -1.59570749]\n",
            " [-0.56962577 -0.13159065]\n",
            " [-0.56962577 -0.73192174]\n",
            " [ 2.03909516  1.60893762]\n",
            " [-0.56962577  1.54847262]\n",
            " [ 0.73473469  1.11657975]\n",
            " [-0.56962577 -0.2741153 ]\n",
            " [-0.56962577 -0.9953764 ]\n",
            " [ 2.03909516  1.57438619]\n",
            " [ 0.73473469  1.42754262]\n",
            " [-0.56962577 -0.82693818]\n",
            " [ 0.73473469  0.75810867]\n",
            " [-0.56962577 -0.63258638]\n",
            " [-0.56962577 -0.15318529]\n",
            " [-0.56962577 -0.05816886]\n",
            " [-0.56962577 -1.23291747]\n",
            " [-0.56962577 -1.23291747]\n",
            " [-0.56962577 -0.22660708]\n",
            " [-0.56962577 -0.70600817]\n",
            " [-0.56962577 -1.5222857 ]\n",
            " [-0.56962577 -1.09039283]\n",
            " [ 0.73473469 -0.56348352]\n",
            " [-0.56962577 -0.10567708]\n",
            " [-0.56962577 -0.61099174]\n",
            " [ 2.03909516  1.71259191]\n",
            " [-0.56962577 -0.63258638]\n",
            " [ 0.73473469  1.40594797]\n",
            " [-0.56962577  0.8531251 ]\n",
            " [ 0.73473469  1.68667834]\n",
            " [-0.56962577  0.56375687]\n",
            " [ 2.03909516  0.42123223]\n",
            " [-0.56962577  1.06907153]\n",
            " [-0.56962577 -1.11198747]\n",
            " [-0.56962577 -0.46414816]\n",
            " [-0.56962577  0.03684757]\n",
            " [-0.56962577 -0.10567708]\n",
            " [-0.56962577 -0.58507817]\n",
            " [ 2.03909516  1.57438619]\n",
            " [-0.56962577 -0.03225529]\n",
            " [-0.56962577 -0.13159065]\n",
            " [ 0.73473469  0.08435579]\n",
            " [-0.56962577 -1.16381462]\n",
            " [-0.56962577 -0.30002887]\n",
            " [ 0.73473469  0.06276114]\n",
            " [-0.56962577 -1.40135569]\n",
            " [-0.56962577 -0.34753709]\n",
            " [-0.56962577 -1.47477748]\n",
            " [-0.56962577  0.66309223]\n",
            " [ 2.03909516  1.82488406]\n",
            " [-0.56962577 -1.01697104]\n",
            " [ 0.73473469 -0.44255352]\n",
            " [-0.56962577 -1.54388034]\n",
            " [-0.56962577 -0.77942996]\n",
            " [-0.56962577  1.6650837 ]\n",
            " [ 2.03909516  1.80760834]\n",
            " [-0.56962577 -0.8010246 ]\n",
            " [-0.56962577  1.54847262]\n",
            " [-0.56962577 -1.35384748]\n",
            " [ 0.73473469  0.03684757]\n",
            " [-0.56962577  0.80561688]\n",
            " [ 0.73473469  1.28501797]\n",
            " [-0.56962577 -0.10567708]\n",
            " [-0.56962577  0.25279401]\n",
            " [-0.56962577 -0.70600817]\n",
            " [-0.56962577 -0.32162351]\n",
            " [-0.56962577 -0.24820173]\n",
            " [ 3.34345563  1.82488406]\n",
            " [-0.56962577 -0.10567708]\n",
            " [-0.56962577 -0.65849995]\n",
            " [-0.56962577  0.90063331]\n",
            " [ 2.03909516  1.42754262]\n",
            " [-0.56962577 -0.13159065]\n",
            " [-0.56962577 -0.56348352]\n",
            " [ 2.03909516  1.60029977]\n",
            " [-0.56962577 -0.26979637]\n",
            " [ 2.03909516  1.3800344 ]\n",
            " [ 0.73473469  0.68468688]\n",
            " [-0.56962577 -0.10567708]\n",
            " [-0.56962577 -0.13159065]\n",
            " [-0.56962577 -0.82693818]\n",
            " [-0.56962577 -1.54388034]\n",
            " [-0.56962577 -0.73192174]\n",
            " [ 2.03909516  1.64348905]\n",
            " [ 2.03909516  1.59166191]]\n"
          ]
        }
      ]
    },
    {
      "cell_type": "code",
      "source": [
        "print(x_test)"
      ],
      "metadata": {
        "colab": {
          "base_uri": "https://localhost:8080/"
        },
        "id": "do8TKpNyfx3E",
        "outputId": "8001ece7-428b-48e7-f39c-068cdb866c9e"
      },
      "execution_count": 27,
      "outputs": [
        {
          "output_type": "stream",
          "name": "stdout",
          "text": [
            "[[-0.56962577  0.46874044]\n",
            " [ 0.73473469  0.71060045]\n",
            " [ 0.73473469  0.11026936]\n",
            " [-0.56962577  0.83153045]\n",
            " [ 2.03909516  1.8162462 ]\n",
            " [ 0.73473469  0.15777757]\n",
            " [-0.56962577 -0.30002887]\n",
            " [ 0.73473469  1.40594797]\n",
            " [-0.56962577  1.52687798]\n",
            " [-0.56962577 -0.89604103]\n",
            " [ 0.73473469  1.19000154]\n",
            " [-0.56962577 -1.30633926]\n",
            " [ 2.03909516  1.62189441]\n",
            " [-0.56962577 -1.54388034]\n",
            " [ 3.34345563  1.82488406]\n",
            " [-0.56962577 -0.15318529]\n",
            " [ 2.03909516  1.6348512 ]\n",
            " [-0.56962577 -0.70600817]\n",
            " [-0.56962577 -1.49637213]\n",
            " [ 0.73473469 -0.46414816]\n",
            " [ 3.34345563  1.85943549]\n",
            " [ 0.73473469  0.131864  ]\n",
            " [-0.56962577  0.56375687]\n",
            " [-0.56962577 -0.2741153 ]\n",
            " [-0.56962577 -0.9953764 ]\n",
            " [-0.56962577 -0.58507817]\n",
            " [-0.56962577 -0.13159065]\n",
            " [ 0.73473469  1.60893762]\n",
            " [-0.56962577 -0.13159065]\n",
            " [ 0.73473469  1.16408797]\n",
            " [ 0.73473469  0.11026936]\n",
            " [-0.56962577 -1.37976105]\n",
            " [-0.56962577  0.131864  ]\n",
            " [-0.56962577  0.39963758]\n",
            " [-0.56962577 -0.9953764 ]\n",
            " [-0.56962577 -1.59570749]\n",
            " [ 0.73473469  1.09498511]\n",
            " [ 0.73473469  1.35843976]\n",
            " [-0.56962577 -1.47477748]\n",
            " [-0.56962577 -0.30002887]\n",
            " [-0.56962577 -1.25883105]\n",
            " [ 0.73473469  0.73219509]\n",
            " [ 0.73473469  0.77970331]\n",
            " [ 0.73473469 -0.51597531]\n",
            " [-0.56962577 -0.30002887]\n",
            " [-0.56962577 -0.32162351]\n",
            " [ 0.73473469  1.35843976]\n",
            " [-0.56962577 -0.77942996]\n",
            " [ 0.73473469  0.08435579]\n",
            " [-0.56962577  0.77970331]\n",
            " [ 2.03909516  1.80760834]\n",
            " [-0.56962577 -1.35384748]\n",
            " [ 2.03909516  0.51624866]\n",
            " [-0.56962577 -0.65849995]\n",
            " [-0.56962577 -1.25883105]\n",
            " [-0.56962577  0.20528579]\n",
            " [-0.56962577 -0.32162351]\n",
            " [-0.56962577 -0.03225529]\n",
            " [-0.56962577 -0.96946282]\n",
            " [ 2.03909516  1.80760834]\n",
            " [-0.56962577 -0.05816886]\n",
            " [-0.56962577 -0.77942996]\n",
            " [-0.56962577  0.30030222]\n",
            " [-0.56962577 -0.32162351]\n",
            " [ 3.34345563  1.8162462 ]\n",
            " [-0.56962577 -0.89604103]\n",
            " [-0.56962577 -1.21132283]\n",
            " [-0.56962577 -0.10567708]]\n"
          ]
        }
      ]
    },
    {
      "cell_type": "markdown",
      "source": [
        "KNN"
      ],
      "metadata": {
        "id": "jA16JjoBf2hi"
      }
    },
    {
      "cell_type": "code",
      "source": [
        "from sklearn.neighbors import KNeighborsClassifier\n",
        "classifier = KNeighborsClassifier(n_neighbors=5, metric='minkowski', p=2)\n",
        "classifier.fit(x_train, y_train)"
      ],
      "metadata": {
        "colab": {
          "base_uri": "https://localhost:8080/",
          "height": 74
        },
        "id": "sRBfGZI8f4zE",
        "outputId": "9ec54788-65fa-40ab-cd69-2c3b90652660"
      },
      "execution_count": 28,
      "outputs": [
        {
          "output_type": "execute_result",
          "data": {
            "text/plain": [
              "KNeighborsClassifier()"
            ],
            "text/html": [
              "<style>#sk-container-id-3 {color: black;background-color: white;}#sk-container-id-3 pre{padding: 0;}#sk-container-id-3 div.sk-toggleable {background-color: white;}#sk-container-id-3 label.sk-toggleable__label {cursor: pointer;display: block;width: 100%;margin-bottom: 0;padding: 0.3em;box-sizing: border-box;text-align: center;}#sk-container-id-3 label.sk-toggleable__label-arrow:before {content: \"▸\";float: left;margin-right: 0.25em;color: #696969;}#sk-container-id-3 label.sk-toggleable__label-arrow:hover:before {color: black;}#sk-container-id-3 div.sk-estimator:hover label.sk-toggleable__label-arrow:before {color: black;}#sk-container-id-3 div.sk-toggleable__content {max-height: 0;max-width: 0;overflow: hidden;text-align: left;background-color: #f0f8ff;}#sk-container-id-3 div.sk-toggleable__content pre {margin: 0.2em;color: black;border-radius: 0.25em;background-color: #f0f8ff;}#sk-container-id-3 input.sk-toggleable__control:checked~div.sk-toggleable__content {max-height: 200px;max-width: 100%;overflow: auto;}#sk-container-id-3 input.sk-toggleable__control:checked~label.sk-toggleable__label-arrow:before {content: \"▾\";}#sk-container-id-3 div.sk-estimator input.sk-toggleable__control:checked~label.sk-toggleable__label {background-color: #d4ebff;}#sk-container-id-3 div.sk-label input.sk-toggleable__control:checked~label.sk-toggleable__label {background-color: #d4ebff;}#sk-container-id-3 input.sk-hidden--visually {border: 0;clip: rect(1px 1px 1px 1px);clip: rect(1px, 1px, 1px, 1px);height: 1px;margin: -1px;overflow: hidden;padding: 0;position: absolute;width: 1px;}#sk-container-id-3 div.sk-estimator {font-family: monospace;background-color: #f0f8ff;border: 1px dotted black;border-radius: 0.25em;box-sizing: border-box;margin-bottom: 0.5em;}#sk-container-id-3 div.sk-estimator:hover {background-color: #d4ebff;}#sk-container-id-3 div.sk-parallel-item::after {content: \"\";width: 100%;border-bottom: 1px solid gray;flex-grow: 1;}#sk-container-id-3 div.sk-label:hover label.sk-toggleable__label {background-color: #d4ebff;}#sk-container-id-3 div.sk-serial::before {content: \"\";position: absolute;border-left: 1px solid gray;box-sizing: border-box;top: 0;bottom: 0;left: 50%;z-index: 0;}#sk-container-id-3 div.sk-serial {display: flex;flex-direction: column;align-items: center;background-color: white;padding-right: 0.2em;padding-left: 0.2em;position: relative;}#sk-container-id-3 div.sk-item {position: relative;z-index: 1;}#sk-container-id-3 div.sk-parallel {display: flex;align-items: stretch;justify-content: center;background-color: white;position: relative;}#sk-container-id-3 div.sk-item::before, #sk-container-id-3 div.sk-parallel-item::before {content: \"\";position: absolute;border-left: 1px solid gray;box-sizing: border-box;top: 0;bottom: 0;left: 50%;z-index: -1;}#sk-container-id-3 div.sk-parallel-item {display: flex;flex-direction: column;z-index: 1;position: relative;background-color: white;}#sk-container-id-3 div.sk-parallel-item:first-child::after {align-self: flex-end;width: 50%;}#sk-container-id-3 div.sk-parallel-item:last-child::after {align-self: flex-start;width: 50%;}#sk-container-id-3 div.sk-parallel-item:only-child::after {width: 0;}#sk-container-id-3 div.sk-dashed-wrapped {border: 1px dashed gray;margin: 0 0.4em 0.5em 0.4em;box-sizing: border-box;padding-bottom: 0.4em;background-color: white;}#sk-container-id-3 div.sk-label label {font-family: monospace;font-weight: bold;display: inline-block;line-height: 1.2em;}#sk-container-id-3 div.sk-label-container {text-align: center;}#sk-container-id-3 div.sk-container {/* jupyter's `normalize.less` sets `[hidden] { display: none; }` but bootstrap.min.css set `[hidden] { display: none !important; }` so we also need the `!important` here to be able to override the default hidden behavior on the sphinx rendered scikit-learn.org. See: https://github.com/scikit-learn/scikit-learn/issues/21755 */display: inline-block !important;position: relative;}#sk-container-id-3 div.sk-text-repr-fallback {display: none;}</style><div id=\"sk-container-id-3\" class=\"sk-top-container\"><div class=\"sk-text-repr-fallback\"><pre>KNeighborsClassifier()</pre><b>In a Jupyter environment, please rerun this cell to show the HTML representation or trust the notebook. <br />On GitHub, the HTML representation is unable to render, please try loading this page with nbviewer.org.</b></div><div class=\"sk-container\" hidden><div class=\"sk-item\"><div class=\"sk-estimator sk-toggleable\"><input class=\"sk-toggleable__control sk-hidden--visually\" id=\"sk-estimator-id-3\" type=\"checkbox\" checked><label for=\"sk-estimator-id-3\" class=\"sk-toggleable__label sk-toggleable__label-arrow\">KNeighborsClassifier</label><div class=\"sk-toggleable__content\"><pre>KNeighborsClassifier()</pre></div></div></div></div></div>"
            ]
          },
          "metadata": {},
          "execution_count": 28
        }
      ]
    },
    {
      "cell_type": "markdown",
      "source": [
        "Predicting"
      ],
      "metadata": {
        "id": "0vrBiom6gcoz"
      }
    },
    {
      "cell_type": "code",
      "source": [
        "print(classifier.predict(sc.transform([[1,1000]])))"
      ],
      "metadata": {
        "colab": {
          "base_uri": "https://localhost:8080/"
        },
        "id": "mYNCbVzhgeUn",
        "outputId": "db4f70a9-2ce9-4660-8371-ec8e1d166b52"
      },
      "execution_count": 29,
      "outputs": [
        {
          "output_type": "stream",
          "name": "stdout",
          "text": [
            "[1]\n"
          ]
        }
      ]
    },
    {
      "cell_type": "markdown",
      "source": [
        "Predicting set results"
      ],
      "metadata": {
        "id": "poFDsbhD4Yav"
      }
    },
    {
      "cell_type": "code",
      "source": [
        "y_pred = classifier.predict(x_test)"
      ],
      "metadata": {
        "id": "RkjcBbgG4aob"
      },
      "execution_count": 30,
      "outputs": []
    },
    {
      "cell_type": "markdown",
      "source": [
        "Confusion Matrix"
      ],
      "metadata": {
        "id": "-8V01LM_kqbB"
      }
    },
    {
      "cell_type": "code",
      "source": [
        "from sklearn.metrics import confusion_matrix, accuracy_score\n",
        "cm = confusion_matrix(y_test, y_pred)\n",
        "print(cm)\n",
        "accuracy_score(y_test, y_pred)"
      ],
      "metadata": {
        "colab": {
          "base_uri": "https://localhost:8080/"
        },
        "id": "Ku0sSDkTkttO",
        "outputId": "7550a3e3-2a27-46d0-e4c3-c8fab7571b41"
      },
      "execution_count": 31,
      "outputs": [
        {
          "output_type": "stream",
          "name": "stdout",
          "text": [
            "[[37  3]\n",
            " [ 1 27]]\n"
          ]
        },
        {
          "output_type": "execute_result",
          "data": {
            "text/plain": [
              "0.9411764705882353"
            ]
          },
          "metadata": {},
          "execution_count": 31
        }
      ]
    }
  ]
}
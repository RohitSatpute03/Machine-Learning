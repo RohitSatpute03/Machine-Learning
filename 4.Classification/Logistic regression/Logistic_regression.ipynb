{
  "nbformat": 4,
  "nbformat_minor": 0,
  "metadata": {
    "colab": {
      "provenance": []
    },
    "kernelspec": {
      "name": "python3",
      "display_name": "Python 3"
    },
    "language_info": {
      "name": "python"
    }
  },
  "cells": [
    {
      "cell_type": "markdown",
      "source": [
        "Import libraries"
      ],
      "metadata": {
        "id": "RbKGmd3ViOQu"
      }
    },
    {
      "cell_type": "code",
      "source": [
        "import numpy as np\n",
        "import pandas as pd\n",
        "import matplotlib.pyplot as plt"
      ],
      "metadata": {
        "id": "EVDWUQ0HiTnM"
      },
      "execution_count": 23,
      "outputs": []
    },
    {
      "cell_type": "markdown",
      "source": [
        "Import dataset"
      ],
      "metadata": {
        "id": "kEHbQ4Oyibcc"
      }
    },
    {
      "cell_type": "code",
      "source": [
        "data_set = pd.read_csv(\"/content/Dataset_master.xlsx - Instagram Ads Logistic Regressi.csv\")\n",
        "#data set contains age and phone's price and based on that we can decide customer will buy the product or not\n",
        "\n",
        "x = data_set.iloc[:, :-1].values\n",
        "y = data_set.iloc[:, -1].values"
      ],
      "metadata": {
        "id": "K9mOxDl5iehF"
      },
      "execution_count": 24,
      "outputs": []
    },
    {
      "cell_type": "code",
      "source": [
        "print(x)\n",
        "print(y)"
      ],
      "metadata": {
        "colab": {
          "base_uri": "https://localhost:8080/"
        },
        "id": "JNYVZhjwdvOu",
        "outputId": "d6c9e591-ea4e-4c91-8784-bb9f76c1672e"
      },
      "execution_count": 25,
      "outputs": [
        {
          "output_type": "stream",
          "name": "stdout",
          "text": [
            "[[   15  6334]\n",
            " [   28  6667]\n",
            " [   20 14334]\n",
            " [   21 19000]\n",
            " [   15 25334]\n",
            " [   21 19334]\n",
            " [   21 28000]\n",
            " [   25 50000]\n",
            " [   20 11000]\n",
            " [   28 21667]\n",
            " [   20 26667]\n",
            " [   26 17000]\n",
            " [   28 36000]\n",
            " [   18  6667]\n",
            " [   20 26334]\n",
            " [   21 18000]\n",
            " [   24 45000]\n",
            " [   24 29667]\n",
            " [   19 10667]\n",
            " [   14 14667]\n",
            " [   23 27667]\n",
            " [   28  7667]\n",
            " [   21 19334]\n",
            " [   19 18334]\n",
            " [   18 16000]\n",
            " [   22 26334]\n",
            " [   17  6000]\n",
            " [   25 39000]\n",
            " [   21  6667]\n",
            " [   20 29000]\n",
            " [   18 22000]\n",
            " [   25 40000]\n",
            " [   17 21000]\n",
            " [   24 22667]\n",
            " [   20 26667]\n",
            " [   19  9000]\n",
            " [   16  7667]\n",
            " [   26 37667]\n",
            " [   25  6000]\n",
            " [   27 37334]\n",
            " [   24 38667]\n",
            " [   20  5000]\n",
            " [   23  9334]\n",
            " [   23 27667]\n",
            " [   26 49667]\n",
            " [   15  7000]\n",
            " [   16 24000]\n",
            " [   20 11667]\n",
            " [   21 29667]\n",
            " [   20 28667]\n",
            " [   30 26667]\n",
            " [   31 23667]\n",
            " [   29 23667]\n",
            " [   20 30000]\n",
            " [   29 11000]\n",
            " [   17 18334]\n",
            " [   28 23667]\n",
            " [   23 49334]\n",
            " [   23 15667]\n",
            " [   16 29334]\n",
            " [   27 38334]\n",
            " [   20 39334]\n",
            " [   27 14334]\n",
            " [   27 24000]\n",
            " [   18  9334]\n",
            " [   28 15667]\n",
            " [   20  7334]\n",
            " [   19  7667]\n",
            " [   16 27334]\n",
            " [   26 13667]\n",
            " [   22 10667]\n",
            " [   19 28000]\n",
            " [   15  8667]\n",
            " [   23 14334]\n",
            " [   15 23334]\n",
            " [   22 29667]\n",
            " [   27 14334]\n",
            " [   24 26334]\n",
            " [   16 12000]\n",
            " [   20 26667]\n",
            " [   28  7334]\n",
            " [   28 13000]\n",
            " [   39 24667]\n",
            " [   31 44667]\n",
            " [   32 23667]\n",
            " [   46 33667]\n",
            " [   37 15667]\n",
            " [   44 43334]\n",
            " [   41 38000]\n",
            " [   32 47334]\n",
            " [   36  7334]\n",
            " [   38 32000]\n",
            " [   41 50000]\n",
            " [   28 19334]\n",
            " [   37 14334]\n",
            " [   48 36000]\n",
            " [   39 21667]\n",
            " [   32 26000]\n",
            " [   36 32000]\n",
            " [   47 47667]\n",
            " [   32 26667]\n",
            " [   28 30334]\n",
            " [   29 48000]\n",
            " [   48 34000]\n",
            " [   28 20000]\n",
            " [   29 17667]\n",
            " [   28 42000]\n",
            " [   44 44334]\n",
            " [   32 24000]\n",
            " [   33 26667]\n",
            " [   28 49000]\n",
            " [   31 14000]\n",
            " [   39 28667]\n",
            " [   36 26334]\n",
            " [   29 26667]\n",
            " [   36 27334]\n",
            " [   42 47667]\n",
            " [   33 49667]\n",
            " [   30 19667]\n",
            " [   40 29334]\n",
            " [   44 34667]\n",
            " [   32 24000]\n",
            " [   28 16667]\n",
            " [   45 40667]\n",
            " [   32 17334]\n",
            " [   28 32334]\n",
            " [   35 13000]\n",
            " [   29 17334]\n",
            " [   38 44667]\n",
            " [   29 48667]\n",
            " [   41 30000]\n",
            " [   32 24000]\n",
            " [   32 19000]\n",
            " [   46 31667]\n",
            " [   36 43667]\n",
            " [   28 48000]\n",
            " [   28 24000]\n",
            " [   38 30000]\n",
            " [   33 36000]\n",
            " [   32 25000]\n",
            " [   37 48000]\n",
            " [   32 20334]\n",
            " [   34 44334]\n",
            " [   47 25334]\n",
            " [   48 14000]\n",
            " [   31 35334]\n",
            " [   45  8667]\n",
            " [   45 24667]\n",
            " [   30 23667]\n",
            " [   39 29334]\n",
            " [   41 12667]\n",
            " [   40 12000]\n",
            " [   47 29334]\n",
            " [   28 20334]\n",
            " [   29 23334]\n",
            " [   41  7000]\n",
            " [   38 47000]\n",
            " [   29 31000]\n",
            " [   29 20667]\n",
            " [   38 46000]\n",
            " [   32 26334]\n",
            " [   29 26000]\n",
            " [   31 44667]\n",
            " [   39 29667]\n",
            " [   44 13000]\n",
            " [   29 25667]\n",
            " [   28 21000]\n",
            " [   33 24334]\n",
            " [   36 39000]\n",
            " [   38 24667]\n",
            " [   29 26334]\n",
            " [   32 20000]\n",
            " [   37 37667]\n",
            " [   30 16667]\n",
            " [   39 47000]\n",
            " [   31 26334]\n",
            " [   31 25000]\n",
            " [   43 34667]\n",
            " [   28 18334]\n",
            " [   36 10667]\n",
            " [   28 20000]\n",
            " [   41 46000]\n",
            " [   42 27334]\n",
            " [   32 17334]\n",
            " [   38 10000]\n",
            " [   38 43667]\n",
            " [   32 24000]\n",
            " [   37 35667]\n",
            " [   30 17000]\n",
            " [   38 39667]\n",
            " [   33 21667]\n",
            " [   32 21667]\n",
            " [   45 20000]\n",
            " [   28 18000]\n",
            " [   28 26334]\n",
            " [   34 43000]\n",
            " [   42 11334]\n",
            " [   37 16667]\n",
            " [   33 26334]]\n",
            "[0 0 0 0 0 0 0 1 0 0 0 0 0 0 0 0 1 0 0 0 0 0 0 0 0 0 0 0 0 0 0 1 0 0 0 0 0\n",
            " 0 0 1 0 0 0 0 1 0 0 0 0 0 0 0 0 0 0 0 0 1 0 0 0 0 0 0 0 0 0 0 0 0 0 0 0 0\n",
            " 0 0 0 0 0 0 0 0 0 1 0 1 0 1 0 1 0 1 1 0 0 1 0 0 0 1 0 1 1 1 0 0 1 1 0 1 1\n",
            " 0 1 1 0 0 1 1 0 1 1 0 0 1 0 1 0 0 1 1 1 0 0 1 1 1 0 1 1 0 1 0 0 1 1 1 1 1\n",
            " 0 1 1 1 1 0 1 1 0 1 0 1 0 1 1 1 1 0 0 1 1 1 1 0 1 0 1 0 1 1 0 1 0 1 1 0 1\n",
            " 1 0 1 0 1 0 0 1 0 0 1 1 1 0]\n"
          ]
        }
      ]
    },
    {
      "cell_type": "markdown",
      "source": [
        "Splitting data in train and test set"
      ],
      "metadata": {
        "id": "eEOms0kmeOai"
      }
    },
    {
      "cell_type": "code",
      "source": [
        "from sklearn.model_selection import train_test_split\n",
        "x_train, x_test, y_train, y_test = train_test_split(x, y, test_size=0.2, random_state=42)"
      ],
      "metadata": {
        "id": "-yGm03LgeUPd"
      },
      "execution_count": 26,
      "outputs": []
    },
    {
      "cell_type": "markdown",
      "source": [
        "Feature scaling"
      ],
      "metadata": {
        "id": "NUAQ3TsyerNf"
      }
    },
    {
      "cell_type": "code",
      "source": [
        "from sklearn.preprocessing import StandardScaler\n",
        "sc = StandardScaler()\n",
        "x_train = sc.fit_transform(x_train)\n",
        "x_test = sc.transform(x_test)"
      ],
      "metadata": {
        "id": "SHQSQ-Gqety2"
      },
      "execution_count": 27,
      "outputs": []
    },
    {
      "cell_type": "code",
      "source": [
        "print(x_train)"
      ],
      "metadata": {
        "colab": {
          "base_uri": "https://localhost:8080/"
        },
        "id": "H-3hgo5ZfyCA",
        "outputId": "2c803978-a345-4fb7-a70b-a5dc8d98e527"
      },
      "execution_count": 28,
      "outputs": [
        {
          "output_type": "stream",
          "name": "stdout",
          "text": [
            "[[ 0.30645937 -0.72727353]\n",
            " [-0.55054887 -1.66795146]\n",
            " [-1.40755711 -0.83799034]\n",
            " [ 0.55131887  1.5136215 ]\n",
            " [ 0.30645937 -0.47828519]\n",
            " [-1.16269761  0.24095912]\n",
            " [-1.8972761  -0.94862416]\n",
            " [ 1.04103786 -0.11866304]\n",
            " [-0.06082987 -0.72727353]\n",
            " [ 0.06159987 -0.5336436 ]\n",
            " [-0.18325962 -0.20165915]\n",
            " [-1.04026786 -0.56128131]\n",
            " [-0.18325962 -0.78263194]\n",
            " [ 0.79617836  0.01969148]\n",
            " [-0.18325962 -0.56128131]\n",
            " [ 0.30645937 -0.09102533]\n",
            " [ 2.26533534  0.8219319 ]\n",
            " [ 0.30645937 -0.50600589]\n",
            " [ 1.53075685 -1.2252502 ]\n",
            " [ 0.79617836  1.07092024]\n",
            " [ 0.91860811  1.81788525]\n",
            " [-0.55054887  1.15391635]\n",
            " [-0.18325962  0.8219319 ]\n",
            " [-1.28512736 -1.41896313]\n",
            " [ 0.79617836  0.10268759]\n",
            " [-0.79540836 -1.39124243]\n",
            " [-0.79540836 -0.97626187]\n",
            " [-0.18325962 -0.17402145]\n",
            " [-0.18325962  1.81788525]\n",
            " [ 0.18402962 -0.20165915]\n",
            " [-0.18325962 -0.50600589]\n",
            " [-0.06082987 -0.00802922]\n",
            " [-1.16269761 -1.75094758]\n",
            " [-0.06082987  0.04732919]\n",
            " [ 0.42888912  0.04732919]\n",
            " [-1.52998685 -1.66795146]\n",
            " [ 0.30645937 -0.58900201]\n",
            " [ 0.30645937 -0.00802922]\n",
            " [-0.06082987 -0.03566693]\n",
            " [-1.16269761 -0.97626187]\n",
            " [-0.67297862  0.01969148]\n",
            " [-1.6524166  -0.17402145]\n",
            " [ 1.16346761  0.21332141]\n",
            " [ 1.04103786  1.45826309]\n",
            " [ 0.42888912  0.8219319 ]\n",
            " [-1.6524166  -1.52959695]\n",
            " [-1.16269761  1.09864094]\n",
            " [-1.04026786 -0.56128131]\n",
            " [ 0.18402962  1.5412592 ]\n",
            " [ 0.79617836  0.48994745]\n",
            " [-0.67297862 -0.28465526]\n",
            " [-0.42811912 -0.75499423]\n",
            " [-0.18325962 -0.67199812]\n",
            " [-0.06082987 -0.45064749]\n",
            " [-1.04026786  0.157963  ]\n",
            " [-0.55054887  1.07092024]\n",
            " [ 0.30645937 -0.17402145]\n",
            " [-1.77484635 -0.06330463]\n",
            " [-1.52998685 -0.42300978]\n",
            " [ 0.30645937  0.04732919]\n",
            " [ 2.26533534 -1.00398257]\n",
            " [-0.18325962  0.01969148]\n",
            " [ 2.14290559 -0.06330463]\n",
            " [-1.16269761  0.04732919]\n",
            " [-0.30568937 -0.97626187]\n",
            " [ 0.42888912  1.95623977]\n",
            " [ 0.18402962  0.76665649]\n",
            " [-1.77484635 -1.64023076]\n",
            " [-0.18325962 -0.64427742]\n",
            " [ 2.14290559  0.26867982]\n",
            " [-0.91783811 -1.28060861]\n",
            " [ 1.28589736  0.26867982]\n",
            " [-1.40755711 -1.39124243]\n",
            " [-0.42811912  1.95623977]\n",
            " [ 1.4083271   1.65189302]\n",
            " [-1.04026786 -1.61259306]\n",
            " [-0.67297862  1.04328253]\n",
            " [-0.18325962  0.51766815]\n",
            " [-0.06082987 -0.22929686]\n",
            " [ 1.4083271  -1.58495535]\n",
            " [-0.91783811  0.01969148]\n",
            " [-1.28512736 -0.64427742]\n",
            " [ 1.4083271  -1.11461638]\n",
            " [ 1.8980461  -1.44660083]\n",
            " [-0.18325962 -1.08697868]\n",
            " [ 0.30645937 -0.17402145]\n",
            " [-1.16269761  0.04732919]\n",
            " [ 0.30645937 -0.20165915]\n",
            " [-0.30568937  0.93264871]\n",
            " [ 0.42888912 -0.14630074]\n",
            " [-1.16269761 -1.1976125 ]\n",
            " [ 0.91860811 -0.97626187]\n",
            " [-0.18325962 -0.47828519]\n",
            " [-0.79540836  0.1303253 ]\n",
            " [ 1.04103786  0.32395523]\n",
            " [-1.04026786 -0.58900201]\n",
            " [-0.06082987 -0.69963582]\n",
            " [-1.16269761  0.32395523]\n",
            " [ 2.02047585  0.46230975]\n",
            " [ 0.91860811 -0.78263194]\n",
            " [ 1.04103786  1.73488913]\n",
            " [ 1.04103786 -1.33596702]\n",
            " [-1.16269761  0.21332141]\n",
            " [-0.18325962 -1.55723465]\n",
            " [-1.16269761  0.04732919]\n",
            " [-0.55054887  1.98387747]\n",
            " [-0.18325962  1.90088136]\n",
            " [ 1.04103786  0.48994745]\n",
            " [ 0.18402962  1.5412592 ]\n",
            " [ 0.18402962  0.01969148]\n",
            " [-0.18325962 -0.50600589]\n",
            " [ 0.30645937  1.76260984]\n",
            " [-1.16269761 -1.2529709 ]\n",
            " [-1.40755711 -1.61259306]\n",
            " [-1.6524166   0.26867982]\n",
            " [-0.06082987  0.01969148]\n",
            " [ 0.30645937 -0.17402145]\n",
            " [-0.67297862  0.29631752]\n",
            " [-1.77484635 -1.44660083]\n",
            " [ 1.16346761  1.73488913]\n",
            " [ 0.79617836  1.45826309]\n",
            " [-0.18325962 -0.42300978]\n",
            " [ 1.53075685  0.10268759]\n",
            " [-0.30568937 -0.17402145]\n",
            " [-0.06082987 -1.2529709 ]\n",
            " [ 1.77561635  1.5136215 ]\n",
            " [ 0.06159987  0.04732919]\n",
            " [ 0.55131887  1.40290469]\n",
            " [-0.79540836 -0.86562805]\n",
            " [-1.04026786  0.29631752]\n",
            " [ 1.4083271   0.98792412]\n",
            " [-0.18325962 -1.52959695]\n",
            " [-0.79540836  1.92860206]\n",
            " [ 0.30645937  0.01969148]\n",
            " [ 0.30645937 -0.36765138]\n",
            " [-0.06082987  1.87324365]\n",
            " [-0.42811912  0.96028642]\n",
            " [-0.06082987  0.40695134]\n",
            " [ 0.91860811  0.79429419]\n",
            " [-0.18325962 -1.61259306]\n",
            " [-0.06082987 -0.20165915]\n",
            " [ 1.16346761  0.26867982]\n",
            " [ 1.4083271   0.32395523]\n",
            " [ 1.28589736 -1.16997479]\n",
            " [ 2.26533534  0.65593968]\n",
            " [ 2.14290559  1.79024754]\n",
            " [ 1.53075685  1.79024754]\n",
            " [ 1.77561635  1.43062539]\n",
            " [-1.77484635 -0.22929686]\n",
            " [ 0.30645937 -0.17402145]\n",
            " [ 0.42888912  0.01969148]\n",
            " [-0.79540836  0.1303253 ]\n",
            " [ 0.06159987 -0.75499423]\n",
            " [-1.28512736  0.157963  ]\n",
            " [-0.18325962  1.31990857]\n",
            " [-1.16269761  0.01969148]\n",
            " [ 1.4083271   1.98387747]\n",
            " [ 0.79617836 -1.28060861]\n",
            " [-0.06082987  1.81788525]]\n"
          ]
        }
      ]
    },
    {
      "cell_type": "code",
      "source": [
        "print(y)"
      ],
      "metadata": {
        "colab": {
          "base_uri": "https://localhost:8080/"
        },
        "id": "do8TKpNyfx3E",
        "outputId": "fb5331f5-6f8c-493f-e517-b7794d66289a"
      },
      "execution_count": 29,
      "outputs": [
        {
          "output_type": "stream",
          "name": "stdout",
          "text": [
            "[0 0 0 0 0 0 0 1 0 0 0 0 0 0 0 0 1 0 0 0 0 0 0 0 0 0 0 0 0 0 0 1 0 0 0 0 0\n",
            " 0 0 1 0 0 0 0 1 0 0 0 0 0 0 0 0 0 0 0 0 1 0 0 0 0 0 0 0 0 0 0 0 0 0 0 0 0\n",
            " 0 0 0 0 0 0 0 0 0 1 0 1 0 1 0 1 0 1 1 0 0 1 0 0 0 1 0 1 1 1 0 0 1 1 0 1 1\n",
            " 0 1 1 0 0 1 1 0 1 1 0 0 1 0 1 0 0 1 1 1 0 0 1 1 1 0 1 1 0 1 0 0 1 1 1 1 1\n",
            " 0 1 1 1 1 0 1 1 0 1 0 1 0 1 1 1 1 0 0 1 1 1 1 0 1 0 1 0 1 1 0 1 0 1 1 0 1\n",
            " 1 0 1 0 1 0 0 1 0 0 1 1 1 0]\n"
          ]
        }
      ]
    },
    {
      "cell_type": "markdown",
      "source": [
        "Logistic regression"
      ],
      "metadata": {
        "id": "jA16JjoBf2hi"
      }
    },
    {
      "cell_type": "code",
      "source": [
        "from sklearn.linear_model import LogisticRegression\n",
        "classifier = LogisticRegression(random_state = 42)\n",
        "classifier.fit(x_train, y_train)"
      ],
      "metadata": {
        "colab": {
          "base_uri": "https://localhost:8080/",
          "height": 74
        },
        "id": "sRBfGZI8f4zE",
        "outputId": "2f9426ae-cb94-45c7-d5c3-f27323b93f24"
      },
      "execution_count": 30,
      "outputs": [
        {
          "output_type": "execute_result",
          "data": {
            "text/plain": [
              "LogisticRegression(random_state=42)"
            ],
            "text/html": [
              "<style>#sk-container-id-2 {color: black;background-color: white;}#sk-container-id-2 pre{padding: 0;}#sk-container-id-2 div.sk-toggleable {background-color: white;}#sk-container-id-2 label.sk-toggleable__label {cursor: pointer;display: block;width: 100%;margin-bottom: 0;padding: 0.3em;box-sizing: border-box;text-align: center;}#sk-container-id-2 label.sk-toggleable__label-arrow:before {content: \"▸\";float: left;margin-right: 0.25em;color: #696969;}#sk-container-id-2 label.sk-toggleable__label-arrow:hover:before {color: black;}#sk-container-id-2 div.sk-estimator:hover label.sk-toggleable__label-arrow:before {color: black;}#sk-container-id-2 div.sk-toggleable__content {max-height: 0;max-width: 0;overflow: hidden;text-align: left;background-color: #f0f8ff;}#sk-container-id-2 div.sk-toggleable__content pre {margin: 0.2em;color: black;border-radius: 0.25em;background-color: #f0f8ff;}#sk-container-id-2 input.sk-toggleable__control:checked~div.sk-toggleable__content {max-height: 200px;max-width: 100%;overflow: auto;}#sk-container-id-2 input.sk-toggleable__control:checked~label.sk-toggleable__label-arrow:before {content: \"▾\";}#sk-container-id-2 div.sk-estimator input.sk-toggleable__control:checked~label.sk-toggleable__label {background-color: #d4ebff;}#sk-container-id-2 div.sk-label input.sk-toggleable__control:checked~label.sk-toggleable__label {background-color: #d4ebff;}#sk-container-id-2 input.sk-hidden--visually {border: 0;clip: rect(1px 1px 1px 1px);clip: rect(1px, 1px, 1px, 1px);height: 1px;margin: -1px;overflow: hidden;padding: 0;position: absolute;width: 1px;}#sk-container-id-2 div.sk-estimator {font-family: monospace;background-color: #f0f8ff;border: 1px dotted black;border-radius: 0.25em;box-sizing: border-box;margin-bottom: 0.5em;}#sk-container-id-2 div.sk-estimator:hover {background-color: #d4ebff;}#sk-container-id-2 div.sk-parallel-item::after {content: \"\";width: 100%;border-bottom: 1px solid gray;flex-grow: 1;}#sk-container-id-2 div.sk-label:hover label.sk-toggleable__label {background-color: #d4ebff;}#sk-container-id-2 div.sk-serial::before {content: \"\";position: absolute;border-left: 1px solid gray;box-sizing: border-box;top: 0;bottom: 0;left: 50%;z-index: 0;}#sk-container-id-2 div.sk-serial {display: flex;flex-direction: column;align-items: center;background-color: white;padding-right: 0.2em;padding-left: 0.2em;position: relative;}#sk-container-id-2 div.sk-item {position: relative;z-index: 1;}#sk-container-id-2 div.sk-parallel {display: flex;align-items: stretch;justify-content: center;background-color: white;position: relative;}#sk-container-id-2 div.sk-item::before, #sk-container-id-2 div.sk-parallel-item::before {content: \"\";position: absolute;border-left: 1px solid gray;box-sizing: border-box;top: 0;bottom: 0;left: 50%;z-index: -1;}#sk-container-id-2 div.sk-parallel-item {display: flex;flex-direction: column;z-index: 1;position: relative;background-color: white;}#sk-container-id-2 div.sk-parallel-item:first-child::after {align-self: flex-end;width: 50%;}#sk-container-id-2 div.sk-parallel-item:last-child::after {align-self: flex-start;width: 50%;}#sk-container-id-2 div.sk-parallel-item:only-child::after {width: 0;}#sk-container-id-2 div.sk-dashed-wrapped {border: 1px dashed gray;margin: 0 0.4em 0.5em 0.4em;box-sizing: border-box;padding-bottom: 0.4em;background-color: white;}#sk-container-id-2 div.sk-label label {font-family: monospace;font-weight: bold;display: inline-block;line-height: 1.2em;}#sk-container-id-2 div.sk-label-container {text-align: center;}#sk-container-id-2 div.sk-container {/* jupyter's `normalize.less` sets `[hidden] { display: none; }` but bootstrap.min.css set `[hidden] { display: none !important; }` so we also need the `!important` here to be able to override the default hidden behavior on the sphinx rendered scikit-learn.org. See: https://github.com/scikit-learn/scikit-learn/issues/21755 */display: inline-block !important;position: relative;}#sk-container-id-2 div.sk-text-repr-fallback {display: none;}</style><div id=\"sk-container-id-2\" class=\"sk-top-container\"><div class=\"sk-text-repr-fallback\"><pre>LogisticRegression(random_state=42)</pre><b>In a Jupyter environment, please rerun this cell to show the HTML representation or trust the notebook. <br />On GitHub, the HTML representation is unable to render, please try loading this page with nbviewer.org.</b></div><div class=\"sk-container\" hidden><div class=\"sk-item\"><div class=\"sk-estimator sk-toggleable\"><input class=\"sk-toggleable__control sk-hidden--visually\" id=\"sk-estimator-id-2\" type=\"checkbox\" checked><label for=\"sk-estimator-id-2\" class=\"sk-toggleable__label sk-toggleable__label-arrow\">LogisticRegression</label><div class=\"sk-toggleable__content\"><pre>LogisticRegression(random_state=42)</pre></div></div></div></div></div>"
            ]
          },
          "metadata": {},
          "execution_count": 30
        }
      ]
    },
    {
      "cell_type": "markdown",
      "source": [
        "Predicting"
      ],
      "metadata": {
        "id": "0vrBiom6gcoz"
      }
    },
    {
      "cell_type": "code",
      "source": [
        "print(classifier.predict(sc.transform([[50, 48900]])))"
      ],
      "metadata": {
        "colab": {
          "base_uri": "https://localhost:8080/"
        },
        "id": "mYNCbVzhgeUn",
        "outputId": "d0ddda55-17dc-4f72-d9e6-ff09e9f30e8e"
      },
      "execution_count": 32,
      "outputs": [
        {
          "output_type": "stream",
          "name": "stdout",
          "text": [
            "[1]\n"
          ]
        }
      ]
    },
    {
      "cell_type": "markdown",
      "source": [
        "Predicting test result"
      ],
      "metadata": {
        "id": "01SciMUUjWd1"
      }
    },
    {
      "cell_type": "code",
      "source": [
        "y_pred = classifier.predict(x_test)\n",
        "print(np.concatenate((y_pred.reshape(len(y_pred),1),y_test.reshape(len(y_test),1)),1))"
      ],
      "metadata": {
        "colab": {
          "base_uri": "https://localhost:8080/"
        },
        "id": "Oq8uB09SjZRh",
        "outputId": "2df3d884-9dcc-41df-abab-7ec793cf9c28"
      },
      "execution_count": 36,
      "outputs": [
        {
          "output_type": "stream",
          "name": "stdout",
          "text": [
            "[[1 0]\n",
            " [0 0]\n",
            " [0 0]\n",
            " [1 1]\n",
            " [0 0]\n",
            " [1 1]\n",
            " [0 0]\n",
            " [0 0]\n",
            " [1 1]\n",
            " [0 0]\n",
            " [0 1]\n",
            " [0 0]\n",
            " [0 0]\n",
            " [0 0]\n",
            " [0 0]\n",
            " [1 1]\n",
            " [0 0]\n",
            " [0 0]\n",
            " [0 0]\n",
            " [1 1]\n",
            " [0 1]\n",
            " [0 0]\n",
            " [1 0]\n",
            " [1 1]\n",
            " [0 0]\n",
            " [1 1]\n",
            " [1 1]\n",
            " [0 0]\n",
            " [0 0]\n",
            " [1 1]\n",
            " [0 0]\n",
            " [0 0]\n",
            " [1 1]\n",
            " [1 1]\n",
            " [0 1]\n",
            " [0 0]\n",
            " [0 0]\n",
            " [1 1]\n",
            " [0 0]\n",
            " [0 0]]\n"
          ]
        }
      ]
    },
    {
      "cell_type": "markdown",
      "source": [
        "Confusion Matrix"
      ],
      "metadata": {
        "id": "-8V01LM_kqbB"
      }
    },
    {
      "cell_type": "code",
      "source": [
        "from sklearn.metrics import confusion_matrix, accuracy_score\n",
        "cm = confusion_matrix(y_test, y_pred)\n",
        "print(cm)\n",
        "accuracy_score(y_test, y_pred)"
      ],
      "metadata": {
        "colab": {
          "base_uri": "https://localhost:8080/"
        },
        "id": "Ku0sSDkTkttO",
        "outputId": "85116c2b-d464-477e-9907-2653f7e86771"
      },
      "execution_count": 38,
      "outputs": [
        {
          "output_type": "stream",
          "name": "stdout",
          "text": [
            "[[23  2]\n",
            " [ 3 12]]\n"
          ]
        },
        {
          "output_type": "execute_result",
          "data": {
            "text/plain": [
              "0.875"
            ]
          },
          "metadata": {},
          "execution_count": 38
        }
      ]
    }
  ]
}
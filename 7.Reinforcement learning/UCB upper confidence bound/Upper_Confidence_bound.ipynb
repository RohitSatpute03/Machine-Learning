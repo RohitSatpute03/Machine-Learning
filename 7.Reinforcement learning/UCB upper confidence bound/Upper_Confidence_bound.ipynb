{
  "nbformat": 4,
  "nbformat_minor": 0,
  "metadata": {
    "colab": {
      "provenance": []
    },
    "kernelspec": {
      "name": "python3",
      "display_name": "Python 3"
    },
    "language_info": {
      "name": "python"
    }
  },
  "cells": [
    {
      "cell_type": "markdown",
      "source": [
        "Importing libraries"
      ],
      "metadata": {
        "id": "gmQoesxOwBdu"
      }
    },
    {
      "cell_type": "code",
      "execution_count": 7,
      "metadata": {
        "id": "PqhDzcvUwAuM"
      },
      "outputs": [],
      "source": [
        "import numpy as np\n",
        "import pandas as pd\n",
        "import matplotlib.pyplot as plt"
      ]
    },
    {
      "cell_type": "markdown",
      "source": [
        "Importing data sets"
      ],
      "metadata": {
        "id": "l7g2oaX-wJPo"
      }
    },
    {
      "cell_type": "code",
      "source": [
        "#people saw the add and then visited a web site\n",
        "data_set = pd.read_csv(\"/content/Dataset_master.xlsx - Upper Confidence Bound Facebook.csv\")"
      ],
      "metadata": {
        "id": "u9xF3j_FwMRp"
      },
      "execution_count": 8,
      "outputs": []
    },
    {
      "cell_type": "markdown",
      "source": [
        "Implementation"
      ],
      "metadata": {
        "id": "MmfY-SqNwMiT"
      }
    },
    {
      "cell_type": "code",
      "source": [
        "import math\n",
        "T = 2000\n",
        "num_ads = 10\n",
        "ads_selected = []\n",
        "numbers_of_selections = [0] * num_ads\n",
        "sums_of_rewards = [0] * num_ads\n",
        "total_reward = 0\n",
        "\n",
        "for n in range(0, T):\n",
        "  ad = 0\n",
        "  max_upper_bound = 0\n",
        "  for i in range(0, num_ads):\n",
        "    if (numbers_of_selections[i] > 0):\n",
        "      average_reward = sums_of_rewards[i] / numbers_of_selections[i]\n",
        "      delta_i = math.sqrt(3/2 * math.log(n + 1) / numbers_of_selections[i])\n",
        "      upper_bound = average_reward + delta_i\n",
        "    else:\n",
        "      upper_bound = 1e400\n",
        "    if (upper_bound > max_upper_bound):\n",
        "      max_upper_bound = upper_bound\n",
        "      ad = i\n",
        "  ads_selected.append(ad)\n",
        "  numbers_of_selections[ad] = numbers_of_selections[ad] + 1\n",
        "  reward = data_set.values[n, ad]\n",
        "  sums_of_rewards[ad] = sums_of_rewards[ad] + reward\n",
        "  total_reward = total_reward + reward"
      ],
      "metadata": {
        "id": "zaj3kBxwwPPN"
      },
      "execution_count": 22,
      "outputs": []
    },
    {
      "cell_type": "markdown",
      "source": [
        "Histogram visualization\n"
      ],
      "metadata": {
        "id": "u-axiSTowRyh"
      }
    },
    {
      "cell_type": "code",
      "source": [
        "plt.hist(ads_selected)\n",
        "plt.title(\"Histogram of facebook ads\")\n",
        "plt.xlabel('Ads number')\n",
        "plt.ylabel('select times of each ad')\n",
        "plt.show()"
      ],
      "metadata": {
        "colab": {
          "base_uri": "https://localhost:8080/",
          "height": 472
        },
        "id": "gFwa2tjQwU1j",
        "outputId": "9717aa6f-6945-478a-faa8-e2ed0d354612"
      },
      "execution_count": 23,
      "outputs": [
        {
          "output_type": "display_data",
          "data": {
            "text/plain": [
              "<Figure size 640x480 with 1 Axes>"
            ],
            "image/png": "[encoded data removed]"
          },
          "metadata": {}
        }
      ]
    }
  ]
}
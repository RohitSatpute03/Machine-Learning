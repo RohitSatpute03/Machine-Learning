{
  "nbformat": 4,
  "nbformat_minor": 0,
  "metadata": {
    "colab": {
      "provenance": []
    },
    "kernelspec": {
      "name": "python3",
      "display_name": "Python 3"
    },
    "language_info": {
      "name": "python"
    }
  },
  "cells": [
    {
      "cell_type": "code",
      "execution_count": 2,
      "metadata": {
        "colab": {
          "base_uri": "https://localhost:8080/"
        },
        "id": "Jb34QWhwt2Mk",
        "outputId": "8863c912-535c-493a-b1a2-f2ad3c5845e8"
      },
      "outputs": [
        {
          "output_type": "stream",
          "name": "stdout",
          "text": [
            "['a', 1, 3, 6]\n"
          ]
        }
      ],
      "source": [
        "list1 = [\"a\", 1 , 3 , 6]\n",
        "print(list1)"
      ]
    },
    {
      "cell_type": "code",
      "source": [
        "list2 = [i for i in range (10)]\n",
        "print(list2)"
      ],
      "metadata": {
        "colab": {
          "base_uri": "https://localhost:8080/"
        },
        "id": "QIYnT1gLuSEc",
        "outputId": "b3d1e646-043c-4238-a2b7-e58475657948"
      },
      "execution_count": 3,
      "outputs": [
        {
          "output_type": "stream",
          "name": "stdout",
          "text": [
            "[0, 1, 2, 3, 4, 5, 6, 7, 8, 9]\n"
          ]
        }
      ]
    },
    {
      "cell_type": "code",
      "source": [
        "list3 = [[1,2,3] for i in range (5)]\n",
        "print(list3)"
      ],
      "metadata": {
        "colab": {
          "base_uri": "https://localhost:8080/"
        },
        "id": "BzRXE2UPunbr",
        "outputId": "fdde9385-3ecd-4768-aae2-a1d6c98651d6"
      },
      "execution_count": 4,
      "outputs": [
        {
          "output_type": "stream",
          "name": "stdout",
          "text": [
            "[[1, 2, 3], [1, 2, 3], [1, 2, 3], [1, 2, 3], [1, 2, 3]]\n"
          ]
        }
      ]
    },
    {
      "cell_type": "code",
      "source": [
        "list4 = [[j for j in range (5)] for i in range (7)]\n",
        "print(list4)"
      ],
      "metadata": {
        "colab": {
          "base_uri": "https://localhost:8080/"
        },
        "id": "9ZijMAyTvr3J",
        "outputId": "fe1e285e-9dcd-4f87-81f6-936194928d7a"
      },
      "execution_count": 5,
      "outputs": [
        {
          "output_type": "stream",
          "name": "stdout",
          "text": [
            "[[0, 1, 2, 3, 4], [0, 1, 2, 3, 4], [0, 1, 2, 3, 4], [0, 1, 2, 3, 4], [0, 1, 2, 3, 4], [0, 1, 2, 3, 4], [0, 1, 2, 3, 4]]\n"
          ]
        }
      ]
    },
    {
      "cell_type": "code",
      "source": [
        "list5 =[[j+i for j in range(5)] for i in range(5)]\n",
        "print(list5)"
      ],
      "metadata": {
        "colab": {
          "base_uri": "https://localhost:8080/"
        },
        "id": "DdOZqEbzwIn_",
        "outputId": "619ef7ab-cf8f-465d-bb0a-9e42a34c9892"
      },
      "execution_count": 9,
      "outputs": [
        {
          "output_type": "stream",
          "name": "stdout",
          "text": [
            "[[0, 1, 2, 3, 4], [1, 2, 3, 4, 5], [2, 3, 4, 5, 6], [3, 4, 5, 6, 7], [4, 5, 6, 7, 8]]\n"
          ]
        }
      ]
    },
    {
      "cell_type": "code",
      "source": [
        "R = int(input(\"Enter the elements in row :\"))\n",
        "C = int(input(\"Enter the elements in column: \"))\n",
        "\n",
        "list1 = [int(x) for x in input().split()]\n",
        "print(\"list in 1D:\", list1)\n",
        "\n",
        "a = []\n",
        "for i in range(R):\n",
        "  a.append([])\n",
        "  for j in range(C):\n",
        "    a[i].append(list1[C*i+j])\n",
        "\n",
        "\n",
        "print(\"List in 2D: \", a)"
      ],
      "metadata": {
        "colab": {
          "base_uri": "https://localhost:8080/"
        },
        "id": "lIcnubgYx3_h",
        "outputId": "8f6481bd-911d-4867-d628-aa117191f37f"
      },
      "execution_count": 7,
      "outputs": [
        {
          "output_type": "stream",
          "name": "stdout",
          "text": [
            "Enter the elements in row :2\n",
            "Enter the elements in column: 2\n",
            "1 2 3 4\n",
            "list in 1D: [1, 2, 3, 4]\n",
            "List in 2D:  [[1, 2], [3, 4]]\n"
          ]
        }
      ]
    },
    {
      "cell_type": "code",
      "source": [],
      "metadata": {
        "id": "HtXRfL7i0I3E"
      },
      "execution_count": null,
      "outputs": []
    }
  ]
}
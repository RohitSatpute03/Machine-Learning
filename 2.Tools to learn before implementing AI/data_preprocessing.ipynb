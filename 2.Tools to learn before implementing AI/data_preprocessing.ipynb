{
  "nbformat": 4,
  "nbformat_minor": 0,
  "metadata": {
    "colab": {
      "provenance": []
    },
    "kernelspec": {
      "name": "python3",
      "display_name": "Python 3"
    }
  },
  "cells": [
    {
      "cell_type": "markdown",
      "metadata": {
        "id": "iIDXUkMElkDd"
      },
      "source": [
        "# Data Preprocessing"
      ]
    },
    {
      "cell_type": "markdown",
      "metadata": {
        "id": "Hj40LjUilpix"
      },
      "source": [
        "## Importing the libraries"
      ]
    },
    {
      "cell_type": "code",
      "source": [
        "import numpy as np\n",
        "import pandas as pd\n",
        "import matplotlib.pyplot as plt"
      ],
      "metadata": {
        "id": "Q42lwt9_dnaa"
      },
      "execution_count": 1,
      "outputs": []
    },
    {
      "cell_type": "markdown",
      "metadata": {
        "id": "zApSnwUkl9eD"
      },
      "source": [
        "## Importing Dataset"
      ]
    },
    {
      "cell_type": "code",
      "source": [
        "data_set = pd.read_csv('/content/Dataset_master.xlsx - Covid_data_old.csv')\n",
        "x = data_set.iloc[:, :-1].values\n",
        "y = data_set.iloc[:, -1].values\n"
      ],
      "metadata": {
        "id": "xcFX5b_TfdBG"
      },
      "execution_count": 3,
      "outputs": []
    },
    {
      "cell_type": "code",
      "source": [
        "print(x)"
      ],
      "metadata": {
        "colab": {
          "base_uri": "https://localhost:8080/"
        },
        "id": "OTToiV9agKMB",
        "outputId": "0c9cd43c-6673-4c54-e359-ebbe995c02e3"
      },
      "execution_count": 4,
      "outputs": [
        {
          "output_type": "stream",
          "name": "stdout",
          "text": [
            "[[10.0 'Normal' 'no' 'no' 97.0]\n",
            " [12.0 'Normal' 'no' 'no' 97.0]\n",
            " [15.0 'Normal' 'no' 'no' 94.0]\n",
            " [10.0 'Normal' 'no' 'no' 97.0]\n",
            " [13.0 'Moderate' 'no' 'no' 94.0]\n",
            " [12.0 'Moderate' 'no' 'no' 97.0]\n",
            " [13.0 'Moderate' 'no' 'no' 93.0]\n",
            " [15.0 'Moderate' 'no' 'no' 92.0]\n",
            " [18.0 'Moderate' 'no' 'no' 66.0]\n",
            " [19.0 'Normal' 'no' 'no' 92.0]\n",
            " [20.0 'Normal' 'no' 'no' 93.0]\n",
            " [17.0 'Normal' 'no' 'no' 93.0]\n",
            " [16.0 'Normal' 'no' 'no' 92.0]\n",
            " [18.0 'Normal' 'no' 'no' 93.0]\n",
            " [20.0 'Normal' 'no' 'no' 92.0]\n",
            " [25.0 'Moderate' 'no' 'no' 93.0]\n",
            " [24.0 'Moderate' 'no' 'no' 92.0]\n",
            " [26.0 'High' 'no' 'no' 94.0]\n",
            " [28.0 'Normal' 'no' 'no' 99.0]\n",
            " [29.0 'Normal' 'no' 'no' 93.0]\n",
            " [30.0 'Moderate' 'no' 'no' 62.0]\n",
            " [19.0 'Normal' 'no' 'no' 89.0]\n",
            " [25.0 'Normal' 'no' 'yes' 86.0]\n",
            " [26.0 'Normal' 'no' 'no' nan]\n",
            " [28.0 'Normal' 'no' 'no' 89.0]\n",
            " [30.0 'Moderate' 'yes' 'no' 86.0]\n",
            " [35.0 'Moderate' 'no' 'no' 89.0]\n",
            " [32.0 'Moderate' 'no' 'yes' 84.0]\n",
            " [nan 'Moderate' 'yes' 'no' 90.0]\n",
            " [32.0 'Moderate' 'no' 'no' 89.0]\n",
            " [35.0 'Moderate' 'no' 'yes' 92.0]\n",
            " [38.0 'High' 'no' 'no' 75.0]\n",
            " [40.0 'Moderate' 'no' 'yes' 90.0]\n",
            " [46.0 'High' 'yes' 'no' 91.0]\n",
            " [48.0 'Moderate' 'no' 'yes' 93.0]\n",
            " [42.0 'High' 'no' 'no' 92.0]\n",
            " [40.0 'High' 'no' 'no' 92.0]\n",
            " [49.0 'Moderate' 'no' 'no' 80.0]\n",
            " [50.0 'High' 'yes' 'yes' 77.0]\n",
            " [36.0 'High' 'yes' 'no' 90.0]\n",
            " [52.0 'High' 'yes' 'yes' 80.0]\n",
            " [56.0 'High' 'yes' 'yes' 77.0]\n",
            " [58.0 'High' 'no' 'no' 70.0]\n",
            " [59.0 'High' 'no' 'yes' 69.0]\n",
            " [60.0 'High' 'yes' 'yes' 68.0]\n",
            " [53.0 'High' 'yes' 'no' 55.0]\n",
            " [54.0 'High' 'yes' 'yes' 70.0]\n",
            " [62.0 'High' 'yes' 'yes' 68.0]\n",
            " [63.0 'High' 'yes' 'yes' 66.0]\n",
            " [68.0 'High' 'yes' 'no' 67.0]\n",
            " [69.0 'High' 'no' 'yes' 53.0]\n",
            " [64.0 'High' 'yes' 'yes' 73.0]\n",
            " [61.0 'High' 'yes' 'yes' 76.0]\n",
            " [70.0 'Normal' 'no' 'yes' 88.0]\n",
            " [59.0 'High' 'yes' 'no' 68.0]\n",
            " [62.0 'High' 'yes' 'yes' 69.0]\n",
            " [78.0 'High' 'yes' 'yes' 71.0]\n",
            " [74.0 'High' 'yes' 'yes' 75.0]\n",
            " [75.0 'High' 'no' 'yes' 72.0]\n",
            " [56.0 'High' 'yes' 'no' 76.0]\n",
            " [80.0 'High' 'no' 'yes' 92.0]\n",
            " [82.0 'High' 'yes' 'yes' 73.0]\n",
            " [86.0 'High' 'yes' 'yes' 71.0]\n",
            " [90.0 'High' 'yes' 'yes' 67.0]\n",
            " [84.0 'High' 'yes' 'yes' 75.0]\n",
            " [86.0 'High' 'no' 'yes' 76.0]\n",
            " [61.0 'Moderate' 'no' 'yes' 90.0]\n",
            " [94.0 'High' 'yes' 'yes' 64.0]\n",
            " [81.0 'High' 'yes' 'yes' 75.0]\n",
            " [76.0 'High' 'yes' 'yes' 80.0]]\n"
          ]
        }
      ]
    },
    {
      "cell_type": "code",
      "source": [
        "print(y)"
      ],
      "metadata": {
        "colab": {
          "base_uri": "https://localhost:8080/"
        },
        "id": "C3e3d_ZQgNFJ",
        "outputId": "e19e8340-674b-4610-e74f-2a4969cf8311"
      },
      "execution_count": 5,
      "outputs": [
        {
          "output_type": "stream",
          "name": "stdout",
          "text": [
            "['No' 'No' 'No' 'No' 'No' 'No' 'No' 'No' 'Yes' 'No' 'No' 'No' 'No' 'No'\n",
            " 'No' 'No' 'No' 'No' 'No' 'No' 'Yes' 'No' 'No' 'No' 'No' 'No' 'No' 'No'\n",
            " 'No' 'No' 'No' 'Yes' 'No' 'No' 'No' 'No' 'No' 'Yes' 'Yes' 'No' 'Yes'\n",
            " 'Yes' 'Yes' 'Yes' 'Yes' 'Yes' 'Yes' 'Yes' 'Yes' 'Yes' 'Yes' 'Yes' 'Yes'\n",
            " 'No' 'Yes' 'Yes' 'Yes' 'Yes' 'Yes' 'Yes' 'No' 'Yes' 'Yes' 'Yes' 'Yes'\n",
            " 'Yes' 'No' 'Yes' 'Yes' 'Yes']\n"
          ]
        }
      ]
    },
    {
      "cell_type": "markdown",
      "metadata": {
        "id": "XaG0s7WjmgPU"
      },
      "source": [
        "\n",
        "\n",
        "\n",
        "## Handling Missing Data"
      ]
    },
    {
      "cell_type": "code",
      "source": [
        "from sklearn.impute import SimpleImputer\n",
        "imputer = SimpleImputer(missing_values= np.nan, strategy = 'mean')\n",
        "\n",
        "imputer.fit(x[:, 0:1])\n",
        "x[:, 0:1] = imputer.transform(x[:, 0:1])\n",
        "print(x)"
      ],
      "metadata": {
        "colab": {
          "base_uri": "https://localhost:8080/"
        },
        "id": "Z0pAh5M7lSZt",
        "outputId": "3e522e86-5044-428f-85fe-66653b23f5ea"
      },
      "execution_count": 7,
      "outputs": [
        {
          "output_type": "stream",
          "name": "stdout",
          "text": [
            "[[10.0 'Normal' 'no' 'no' 97.0]\n",
            " [12.0 'Normal' 'no' 'no' 97.0]\n",
            " [15.0 'Normal' 'no' 'no' 94.0]\n",
            " [10.0 'Normal' 'no' 'no' 97.0]\n",
            " [13.0 'Moderate' 'no' 'no' 94.0]\n",
            " [12.0 'Moderate' 'no' 'no' 97.0]\n",
            " [13.0 'Moderate' 'no' 'no' 93.0]\n",
            " [15.0 'Moderate' 'no' 'no' 92.0]\n",
            " [18.0 'Moderate' 'no' 'no' 66.0]\n",
            " [19.0 'Normal' 'no' 'no' 92.0]\n",
            " [20.0 'Normal' 'no' 'no' 93.0]\n",
            " [17.0 'Normal' 'no' 'no' 93.0]\n",
            " [16.0 'Normal' 'no' 'no' 92.0]\n",
            " [18.0 'Normal' 'no' 'no' 93.0]\n",
            " [20.0 'Normal' 'no' 'no' 92.0]\n",
            " [25.0 'Moderate' 'no' 'no' 93.0]\n",
            " [24.0 'Moderate' 'no' 'no' 92.0]\n",
            " [26.0 'High' 'no' 'no' 94.0]\n",
            " [28.0 'Normal' 'no' 'no' 99.0]\n",
            " [29.0 'Normal' 'no' 'no' 93.0]\n",
            " [30.0 'Moderate' 'no' 'no' 62.0]\n",
            " [19.0 'Normal' 'no' 'no' 89.0]\n",
            " [25.0 'Normal' 'no' 'yes' 86.0]\n",
            " [26.0 'Normal' 'no' 'no' nan]\n",
            " [28.0 'Normal' 'no' 'no' 89.0]\n",
            " [30.0 'Moderate' 'yes' 'no' 86.0]\n",
            " [35.0 'Moderate' 'no' 'no' 89.0]\n",
            " [32.0 'Moderate' 'no' 'yes' 84.0]\n",
            " [45.130434782608695 'Moderate' 'yes' 'no' 90.0]\n",
            " [32.0 'Moderate' 'no' 'no' 89.0]\n",
            " [35.0 'Moderate' 'no' 'yes' 92.0]\n",
            " [38.0 'High' 'no' 'no' 75.0]\n",
            " [40.0 'Moderate' 'no' 'yes' 90.0]\n",
            " [46.0 'High' 'yes' 'no' 91.0]\n",
            " [48.0 'Moderate' 'no' 'yes' 93.0]\n",
            " [42.0 'High' 'no' 'no' 92.0]\n",
            " [40.0 'High' 'no' 'no' 92.0]\n",
            " [49.0 'Moderate' 'no' 'no' 80.0]\n",
            " [50.0 'High' 'yes' 'yes' 77.0]\n",
            " [36.0 'High' 'yes' 'no' 90.0]\n",
            " [52.0 'High' 'yes' 'yes' 80.0]\n",
            " [56.0 'High' 'yes' 'yes' 77.0]\n",
            " [58.0 'High' 'no' 'no' 70.0]\n",
            " [59.0 'High' 'no' 'yes' 69.0]\n",
            " [60.0 'High' 'yes' 'yes' 68.0]\n",
            " [53.0 'High' 'yes' 'no' 55.0]\n",
            " [54.0 'High' 'yes' 'yes' 70.0]\n",
            " [62.0 'High' 'yes' 'yes' 68.0]\n",
            " [63.0 'High' 'yes' 'yes' 66.0]\n",
            " [68.0 'High' 'yes' 'no' 67.0]\n",
            " [69.0 'High' 'no' 'yes' 53.0]\n",
            " [64.0 'High' 'yes' 'yes' 73.0]\n",
            " [61.0 'High' 'yes' 'yes' 76.0]\n",
            " [70.0 'Normal' 'no' 'yes' 88.0]\n",
            " [59.0 'High' 'yes' 'no' 68.0]\n",
            " [62.0 'High' 'yes' 'yes' 69.0]\n",
            " [78.0 'High' 'yes' 'yes' 71.0]\n",
            " [74.0 'High' 'yes' 'yes' 75.0]\n",
            " [75.0 'High' 'no' 'yes' 72.0]\n",
            " [56.0 'High' 'yes' 'no' 76.0]\n",
            " [80.0 'High' 'no' 'yes' 92.0]\n",
            " [82.0 'High' 'yes' 'yes' 73.0]\n",
            " [86.0 'High' 'yes' 'yes' 71.0]\n",
            " [90.0 'High' 'yes' 'yes' 67.0]\n",
            " [84.0 'High' 'yes' 'yes' 75.0]\n",
            " [86.0 'High' 'no' 'yes' 76.0]\n",
            " [61.0 'Moderate' 'no' 'yes' 90.0]\n",
            " [94.0 'High' 'yes' 'yes' 64.0]\n",
            " [81.0 'High' 'yes' 'yes' 75.0]\n",
            " [76.0 'High' 'yes' 'yes' 80.0]]\n"
          ]
        }
      ]
    },
    {
      "cell_type": "markdown",
      "metadata": {
        "id": "o0syRbsSmkoe"
      },
      "source": [
        "## Encoding Categorical Data"
      ]
    },
    {
      "cell_type": "markdown",
      "metadata": {
        "id": "alHfpomamsVr"
      },
      "source": [
        "### Encoding independent variables"
      ]
    },
    {
      "cell_type": "code",
      "source": [
        "from sklearn.compose import ColumnTransformer\n",
        "from sklearn.preprocessing import OneHotEncoder"
      ],
      "metadata": {
        "id": "ZmWtOuavms73"
      },
      "execution_count": 8,
      "outputs": []
    },
    {
      "cell_type": "code",
      "source": [
        "ct = ColumnTransformer(transformers=[('encoder', OneHotEncoder(), [1])], remainder='passthrough')\n",
        "x = np.array(ct.fit_transform(x))"
      ],
      "metadata": {
        "id": "owOAwTyVnvxz"
      },
      "execution_count": 9,
      "outputs": []
    },
    {
      "cell_type": "code",
      "source": [
        "print(x)"
      ],
      "metadata": {
        "colab": {
          "base_uri": "https://localhost:8080/"
        },
        "id": "PQTcgRIQusTe",
        "outputId": "c2a69b51-87ff-4d5f-ffd3-4bd0df31b605"
      },
      "execution_count": 10,
      "outputs": [
        {
          "output_type": "stream",
          "name": "stdout",
          "text": [
            "[[0.0 0.0 1.0 10.0 'no' 'no' 97.0]\n",
            " [0.0 0.0 1.0 12.0 'no' 'no' 97.0]\n",
            " [0.0 0.0 1.0 15.0 'no' 'no' 94.0]\n",
            " [0.0 0.0 1.0 10.0 'no' 'no' 97.0]\n",
            " [0.0 1.0 0.0 13.0 'no' 'no' 94.0]\n",
            " [0.0 1.0 0.0 12.0 'no' 'no' 97.0]\n",
            " [0.0 1.0 0.0 13.0 'no' 'no' 93.0]\n",
            " [0.0 1.0 0.0 15.0 'no' 'no' 92.0]\n",
            " [0.0 1.0 0.0 18.0 'no' 'no' 66.0]\n",
            " [0.0 0.0 1.0 19.0 'no' 'no' 92.0]\n",
            " [0.0 0.0 1.0 20.0 'no' 'no' 93.0]\n",
            " [0.0 0.0 1.0 17.0 'no' 'no' 93.0]\n",
            " [0.0 0.0 1.0 16.0 'no' 'no' 92.0]\n",
            " [0.0 0.0 1.0 18.0 'no' 'no' 93.0]\n",
            " [0.0 0.0 1.0 20.0 'no' 'no' 92.0]\n",
            " [0.0 1.0 0.0 25.0 'no' 'no' 93.0]\n",
            " [0.0 1.0 0.0 24.0 'no' 'no' 92.0]\n",
            " [1.0 0.0 0.0 26.0 'no' 'no' 94.0]\n",
            " [0.0 0.0 1.0 28.0 'no' 'no' 99.0]\n",
            " [0.0 0.0 1.0 29.0 'no' 'no' 93.0]\n",
            " [0.0 1.0 0.0 30.0 'no' 'no' 62.0]\n",
            " [0.0 0.0 1.0 19.0 'no' 'no' 89.0]\n",
            " [0.0 0.0 1.0 25.0 'no' 'yes' 86.0]\n",
            " [0.0 0.0 1.0 26.0 'no' 'no' nan]\n",
            " [0.0 0.0 1.0 28.0 'no' 'no' 89.0]\n",
            " [0.0 1.0 0.0 30.0 'yes' 'no' 86.0]\n",
            " [0.0 1.0 0.0 35.0 'no' 'no' 89.0]\n",
            " [0.0 1.0 0.0 32.0 'no' 'yes' 84.0]\n",
            " [0.0 1.0 0.0 45.130434782608695 'yes' 'no' 90.0]\n",
            " [0.0 1.0 0.0 32.0 'no' 'no' 89.0]\n",
            " [0.0 1.0 0.0 35.0 'no' 'yes' 92.0]\n",
            " [1.0 0.0 0.0 38.0 'no' 'no' 75.0]\n",
            " [0.0 1.0 0.0 40.0 'no' 'yes' 90.0]\n",
            " [1.0 0.0 0.0 46.0 'yes' 'no' 91.0]\n",
            " [0.0 1.0 0.0 48.0 'no' 'yes' 93.0]\n",
            " [1.0 0.0 0.0 42.0 'no' 'no' 92.0]\n",
            " [1.0 0.0 0.0 40.0 'no' 'no' 92.0]\n",
            " [0.0 1.0 0.0 49.0 'no' 'no' 80.0]\n",
            " [1.0 0.0 0.0 50.0 'yes' 'yes' 77.0]\n",
            " [1.0 0.0 0.0 36.0 'yes' 'no' 90.0]\n",
            " [1.0 0.0 0.0 52.0 'yes' 'yes' 80.0]\n",
            " [1.0 0.0 0.0 56.0 'yes' 'yes' 77.0]\n",
            " [1.0 0.0 0.0 58.0 'no' 'no' 70.0]\n",
            " [1.0 0.0 0.0 59.0 'no' 'yes' 69.0]\n",
            " [1.0 0.0 0.0 60.0 'yes' 'yes' 68.0]\n",
            " [1.0 0.0 0.0 53.0 'yes' 'no' 55.0]\n",
            " [1.0 0.0 0.0 54.0 'yes' 'yes' 70.0]\n",
            " [1.0 0.0 0.0 62.0 'yes' 'yes' 68.0]\n",
            " [1.0 0.0 0.0 63.0 'yes' 'yes' 66.0]\n",
            " [1.0 0.0 0.0 68.0 'yes' 'no' 67.0]\n",
            " [1.0 0.0 0.0 69.0 'no' 'yes' 53.0]\n",
            " [1.0 0.0 0.0 64.0 'yes' 'yes' 73.0]\n",
            " [1.0 0.0 0.0 61.0 'yes' 'yes' 76.0]\n",
            " [0.0 0.0 1.0 70.0 'no' 'yes' 88.0]\n",
            " [1.0 0.0 0.0 59.0 'yes' 'no' 68.0]\n",
            " [1.0 0.0 0.0 62.0 'yes' 'yes' 69.0]\n",
            " [1.0 0.0 0.0 78.0 'yes' 'yes' 71.0]\n",
            " [1.0 0.0 0.0 74.0 'yes' 'yes' 75.0]\n",
            " [1.0 0.0 0.0 75.0 'no' 'yes' 72.0]\n",
            " [1.0 0.0 0.0 56.0 'yes' 'no' 76.0]\n",
            " [1.0 0.0 0.0 80.0 'no' 'yes' 92.0]\n",
            " [1.0 0.0 0.0 82.0 'yes' 'yes' 73.0]\n",
            " [1.0 0.0 0.0 86.0 'yes' 'yes' 71.0]\n",
            " [1.0 0.0 0.0 90.0 'yes' 'yes' 67.0]\n",
            " [1.0 0.0 0.0 84.0 'yes' 'yes' 75.0]\n",
            " [1.0 0.0 0.0 86.0 'no' 'yes' 76.0]\n",
            " [0.0 1.0 0.0 61.0 'no' 'yes' 90.0]\n",
            " [1.0 0.0 0.0 94.0 'yes' 'yes' 64.0]\n",
            " [1.0 0.0 0.0 81.0 'yes' 'yes' 75.0]\n",
            " [1.0 0.0 0.0 76.0 'yes' 'yes' 80.0]]\n"
          ]
        }
      ]
    },
    {
      "cell_type": "markdown",
      "metadata": {
        "id": "VEJCi9Fgmz-n"
      },
      "source": [
        "### Encoding dependent variables"
      ]
    },
    {
      "cell_type": "code",
      "source": [
        "from sklearn.preprocessing import LabelEncoder\n",
        "le = LabelEncoder()\n",
        "y = le.fit_transform(y)"
      ],
      "metadata": {
        "id": "B2MLQM_tvUdf"
      },
      "execution_count": 12,
      "outputs": []
    },
    {
      "cell_type": "code",
      "source": [
        "print(y)"
      ],
      "metadata": {
        "colab": {
          "base_uri": "https://localhost:8080/"
        },
        "id": "u918QIe2vvAN",
        "outputId": "d129909f-06e4-49c1-bad6-53af7afe7f12"
      },
      "execution_count": 13,
      "outputs": [
        {
          "output_type": "stream",
          "name": "stdout",
          "text": [
            "[0 0 0 0 0 0 0 0 1 0 0 0 0 0 0 0 0 0 0 0 1 0 0 0 0 0 0 0 0 0 0 1 0 0 0 0 0\n",
            " 1 1 0 1 1 1 1 1 1 1 1 1 1 1 1 1 0 1 1 1 1 1 1 0 1 1 1 1 1 0 1 1 1]\n"
          ]
        }
      ]
    },
    {
      "cell_type": "markdown",
      "metadata": {
        "id": "Bfz9vcDsm7r6"
      },
      "source": [
        "## Splitting data into Test set & Training Set\n"
      ]
    },
    {
      "cell_type": "code",
      "source": [
        "from sklearn.model_selection import train_test_split\n",
        "x_train, x_test, y_train, y_test = train_test_split(x,y, test_size=0.2, random_state=42)"
      ],
      "metadata": {
        "id": "AHHQaXa-v3DE"
      },
      "execution_count": 14,
      "outputs": []
    },
    {
      "cell_type": "markdown",
      "metadata": {
        "id": "a5uoHf8MsQG0"
      },
      "source": [
        "## Feature Scaling"
      ]
    },
    {
      "cell_type": "code",
      "source": [
        "from sklearn.preprocessing import StandardScaler\n",
        "sc = StandardScaler()\n",
        "x_train[:, 6:] = sc.fit_transform(x_train[:, 6:])"
      ],
      "metadata": {
        "id": "RlgV0D7MxHHl"
      },
      "execution_count": 15,
      "outputs": []
    },
    {
      "cell_type": "code",
      "source": [
        "print(x_train)"
      ],
      "metadata": {
        "colab": {
          "base_uri": "https://localhost:8080/"
        },
        "id": "3UdLsE-xxuvi",
        "outputId": "d3ddbc33-f6c0-4ea2-a2a2-e253bec23d8e"
      },
      "execution_count": 16,
      "outputs": [
        {
          "output_type": "stream",
          "name": "stdout",
          "text": [
            "[[1.0 0.0 0.0 86.0 'yes' 'yes' -0.984652534374506]\n",
            " [0.0 1.0 0.0 35.0 'no' 'yes' 0.9494863724325598]\n",
            " [1.0 0.0 0.0 75.0 'no' 'yes' -0.8925506816694075]\n",
            " [1.0 0.0 0.0 42.0 'no' 'no' 0.9494863724325598]\n",
            " [1.0 0.0 0.0 74.0 'yes' 'yes' -0.6162451235541124]\n",
            " [1.0 0.0 0.0 62.0 'yes' 'yes' -1.2609580924898012]\n",
            " [0.0 1.0 0.0 24.0 'no' 'no' 0.9494863724325598]\n",
            " [0.0 1.0 0.0 48.0 'no' 'yes' 1.0415882251376583]\n",
            " [1.0 0.0 0.0 58.0 'no' 'no' -1.0767543870796044]\n",
            " [0.0 1.0 0.0 45.130434782608695 'yes' 'no' 0.7652826670223631]\n",
            " [0.0 1.0 0.0 15.0 'no' 'no' 0.9494863724325598]\n",
            " [0.0 0.0 1.0 70.0 'no' 'yes' 0.5810789616121664]\n",
            " [1.0 0.0 0.0 52.0 'yes' 'yes' -0.1557358600286206]\n",
            " [1.0 0.0 0.0 60.0 'yes' 'yes' -1.2609580924898012]\n",
            " [1.0 0.0 0.0 54.0 'yes' 'yes' -1.0767543870796044]\n",
            " [0.0 0.0 1.0 29.0 'no' 'no' 1.0415882251376583]\n",
            " [1.0 0.0 0.0 78.0 'yes' 'yes' -0.984652534374506]\n",
            " [1.0 0.0 0.0 36.0 'yes' 'no' 0.7652826670223631]\n",
            " [0.0 1.0 0.0 30.0 'yes' 'no' 0.3968752562019696]\n",
            " [1.0 0.0 0.0 50.0 'yes' 'yes' -0.4320414181439157]\n",
            " [0.0 0.0 1.0 18.0 'no' 'no' 1.0415882251376583]\n",
            " [1.0 0.0 0.0 69.0 'no' 'yes' -2.6424858830662767]\n",
            " [0.0 0.0 1.0 10.0 'no' 'no' 1.4099956359580517]\n",
            " [1.0 0.0 0.0 26.0 'no' 'no' 1.1336900778427565]\n",
            " [0.0 1.0 0.0 18.0 'no' 'no' -1.4451617978999978]\n",
            " [1.0 0.0 0.0 62.0 'yes' 'yes' -1.1688562397847027]\n",
            " [0.0 1.0 0.0 13.0 'no' 'no' 1.0415882251376583]\n",
            " [1.0 0.0 0.0 40.0 'no' 'no' 0.9494863724325598]\n",
            " [1.0 0.0 0.0 84.0 'yes' 'yes' -0.6162451235541124]\n",
            " [1.0 0.0 0.0 76.0 'yes' 'yes' -0.1557358600286206]\n",
            " [1.0 0.0 0.0 81.0 'yes' 'yes' -0.6162451235541124]\n",
            " [0.0 1.0 0.0 25.0 'no' 'no' 1.0415882251376583]\n",
            " [0.0 1.0 0.0 32.0 'no' 'yes' 0.21267155079177288]\n",
            " [1.0 0.0 0.0 56.0 'yes' 'yes' -0.4320414181439157]\n",
            " [0.0 1.0 0.0 35.0 'no' 'no' 0.6731808143172647]\n",
            " [1.0 0.0 0.0 63.0 'yes' 'yes' -1.4451617978999978]\n",
            " [0.0 0.0 1.0 28.0 'no' 'no' 0.6731808143172647]\n",
            " [1.0 0.0 0.0 56.0 'yes' 'no' -0.5241432708490141]\n",
            " [1.0 0.0 0.0 90.0 'yes' 'yes' -1.3530599451948995]\n",
            " [0.0 0.0 1.0 17.0 'no' 'no' 1.0415882251376583]\n",
            " [0.0 1.0 0.0 40.0 'no' 'yes' 0.7652826670223631]\n",
            " [0.0 1.0 0.0 61.0 'no' 'yes' 0.7652826670223631]\n",
            " [1.0 0.0 0.0 82.0 'yes' 'yes' -0.8004488289643092]\n",
            " [0.0 1.0 0.0 49.0 'no' 'no' -0.1557358600286206]\n",
            " [0.0 1.0 0.0 32.0 'no' 'no' 0.6731808143172647]\n",
            " [1.0 0.0 0.0 59.0 'no' 'yes' -1.1688562397847027]\n",
            " [1.0 0.0 0.0 86.0 'no' 'yes' -0.5241432708490141]\n",
            " [0.0 0.0 1.0 12.0 'no' 'no' 1.4099956359580517]\n",
            " [1.0 0.0 0.0 61.0 'yes' 'yes' -0.5241432708490141]\n",
            " [0.0 0.0 1.0 19.0 'no' 'no' 0.6731808143172647]\n",
            " [0.0 0.0 1.0 15.0 'no' 'no' 1.1336900778427565]\n",
            " [0.0 0.0 1.0 26.0 'no' 'no' nan]\n",
            " [0.0 1.0 0.0 30.0 'no' 'no' -1.8135692087203914]\n",
            " [1.0 0.0 0.0 80.0 'no' 'yes' 0.9494863724325598]\n",
            " [0.0 0.0 1.0 20.0 'no' 'no' 0.9494863724325598]\n",
            " [1.0 0.0 0.0 64.0 'yes' 'yes' -0.8004488289643092]]\n"
          ]
        }
      ]
    }
  ]
}